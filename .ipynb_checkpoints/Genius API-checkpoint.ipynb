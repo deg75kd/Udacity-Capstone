{
 "cells": [
  {
   "cell_type": "code",
   "execution_count": 1,
   "metadata": {
    "scrolled": true
   },
   "outputs": [],
   "source": [
    "import pandas as pd\n",
    "import numpy as np\n",
    "import requests\n",
    "\n",
    "from pandas.io.json import json_normalize"
   ]
  },
  {
   "cell_type": "code",
   "execution_count": 2,
   "metadata": {
    "scrolled": true
   },
   "outputs": [],
   "source": [
    "#CLIENT_ID = 'HaTHypr0_PrCY6_DRGi3kEOB6vQkaTlaqYqZrZWFd7g6JIpCL5900z-Zf4xBTifx'\n",
    "#REDIRECT_URI = 'https://kd-capstone.herokuapp.com/'\n",
    "#STATE_VALUE = np.absolute(hash('60626'))\n",
    "\n",
    "#Client Access Token:\n",
    "#jEjbT34-L73sTqmH4xwmDxQvnnX6HNCBtezF2vZ8VvFducQGD0hF51Hdt7EB7VBW"
   ]
  },
  {
   "cell_type": "code",
   "execution_count": 3,
   "metadata": {
    "scrolled": true
   },
   "outputs": [],
   "source": [
    "#url = 'https://api.genius.com/oauth/authorize?client_id={}&redirect_uri={}&scope=me&state={}&response_type=token'.format(CLIENT_ID, REDIRECT_URI, STATE_VALUE)\n",
    "#url"
   ]
  },
  {
   "cell_type": "markdown",
   "metadata": {},
   "source": [
    "https://kd-capstone.herokuapp.com/#access_token=b55nJ-1Zu-UyHTpS8vTtXHJaF7SzmK2NzEhtwArbyJO5uKDw3sppcoUDAqcrWVeF&state=3178076381505792564&token_type=bearer"
   ]
  },
  {
   "cell_type": "code",
   "execution_count": 4,
   "metadata": {
    "scrolled": true
   },
   "outputs": [],
   "source": [
    "#results = requests.post(url).json()\n",
    "#results"
   ]
  },
  {
   "cell_type": "code",
   "execution_count": 5,
   "metadata": {
    "scrolled": true
   },
   "outputs": [],
   "source": [
    "#url = 'https://api.genius.com/oauth/authorize?client_id={}&redirect_uri={}&scope=me&state={}&response_type=code'.format(CLIENT_ID, REDIRECT_URI, STATE_VALUE)\n",
    "#url"
   ]
  },
  {
   "cell_type": "markdown",
   "metadata": {},
   "source": [
    "https://kd-capstone.herokuapp.com/"
   ]
  },
  {
   "cell_type": "code",
   "execution_count": 6,
   "metadata": {
    "scrolled": true
   },
   "outputs": [],
   "source": [
    "#results = requests.post(url).json()\n",
    "#results"
   ]
  },
  {
   "cell_type": "code",
   "execution_count": 7,
   "metadata": {
    "scrolled": true
   },
   "outputs": [],
   "source": [
    "#CODE = 'b55nJ-1Zu-UyHTpS8vTtXHJaF7SzmK2NzEhtwArbyJO5uKDw3sppcoUDAqcrWVeF'\n",
    "#CLIENT_SECRET = 'Pufdcm8goEsIjC1TgvEDyazqyFuqprbs0qOVEG0elf7spzXDASmElRBpS5PzWPBM8zfuoPAMM5drRe5v9hpUvg'\n",
    "#url_token = 'https://api.genius.com/oauth/token?code={}&client_secret={}&grant_type=authorization_code&client_id={}&redirect_uri={}&response_type=token'.format(CODE, CLIENT_SECRET, CLIENT_ID, REDIRECT_URI)\n",
    "#url_token = 'https://api.genius.com/oauth/token?code={}&client_secret={}&grant_type=authorization_code&client_id={}&redirect_uri={}&response_type=code'.format(CODE, CLIENT_SECRET, CLIENT_ID, REDIRECT_URI)\n",
    "#url_token"
   ]
  },
  {
   "cell_type": "code",
   "execution_count": 8,
   "metadata": {
    "scrolled": false
   },
   "outputs": [],
   "source": [
    "#results = requests.post(url_token).json()\n",
    "#results"
   ]
  },
  {
   "cell_type": "markdown",
   "metadata": {},
   "source": [
    "## Search for artist"
   ]
  },
  {
   "cell_type": "code",
   "execution_count": 38,
   "metadata": {
    "scrolled": true
   },
   "outputs": [
    {
     "data": {
      "text/plain": [
       "'https://api.genius.com/search?q=Kendrick%20Lamar&access_token=jEjbT34-L73sTqmH4xwmDxQvnnX6HNCBtezF2vZ8VvFducQGD0hF51Hdt7EB7VBW'"
      ]
     },
     "execution_count": 38,
     "metadata": {},
     "output_type": "execute_result"
    }
   ],
   "source": [
    "ACCESS_TOKEN = 'jEjbT34-L73sTqmH4xwmDxQvnnX6HNCBtezF2vZ8VvFducQGD0hF51Hdt7EB7VBW'\n",
    "search_url = 'https://api.genius.com/search?q=Kendrick%20Lamar&access_token={}'.format(ACCESS_TOKEN)\n",
    "search_url"
   ]
  },
  {
   "cell_type": "code",
   "execution_count": 39,
   "metadata": {
    "scrolled": true
   },
   "outputs": [
    {
     "data": {
      "text/plain": [
       "{'meta': {'status': 200},\n",
       " 'response': {'hits': [{'highlights': [],\n",
       "    'index': 'song',\n",
       "    'type': 'song',\n",
       "    'result': {'annotation_count': 20,\n",
       "     'api_path': '/songs/3039923',\n",
       "     'full_title': 'HUMBLE. by\\xa0Kendrick\\xa0Lamar',\n",
       "     'header_image_thumbnail_url': 'https://images.genius.com/0780c76f8d3ab762a0ad67ac26fa9709.300x169x1.jpg',\n",
       "     'header_image_url': 'https://images.genius.com/0780c76f8d3ab762a0ad67ac26fa9709.1000x563x1.jpg',\n",
       "     'id': 3039923,\n",
       "     'lyrics_owner_id': 104344,\n",
       "     'lyrics_state': 'complete',\n",
       "     'path': '/Kendrick-lamar-humble-lyrics',\n",
       "     'pyongs_count': 1042,\n",
       "     'song_art_image_thumbnail_url': 'https://images.genius.com/4387b0bcc88e07676997ba73793cc73c.300x300x1.jpg',\n",
       "     'song_art_image_url': 'https://images.genius.com/4387b0bcc88e07676997ba73793cc73c.1000x1000x1.jpg',\n",
       "     'stats': {'unreviewed_annotations': 0,\n",
       "      'concurrents': 3,\n",
       "      'hot': False,\n",
       "      'pageviews': 10465316},\n",
       "     'title': 'HUMBLE.',\n",
       "     'title_with_featured': 'HUMBLE.',\n",
       "     'url': 'https://genius.com/Kendrick-lamar-humble-lyrics',\n",
       "     'primary_artist': {'api_path': '/artists/1421',\n",
       "      'header_image_url': 'https://images.genius.com/f3a1149475f2406582e3531041680a3c.1000x800x1.jpg',\n",
       "      'id': 1421,\n",
       "      'image_url': 'https://images.genius.com/25d8a9c93ab97e9e6d5d1d9d36e64a53.1000x1000x1.jpg',\n",
       "      'is_meme_verified': True,\n",
       "      'is_verified': True,\n",
       "      'name': 'Kendrick Lamar',\n",
       "      'url': 'https://genius.com/artists/Kendrick-lamar',\n",
       "      'iq': 40634}}},\n",
       "   {'highlights': [],\n",
       "    'index': 'song',\n",
       "    'type': 'song',\n",
       "    'result': {'annotation_count': 89,\n",
       "     'api_path': '/songs/90478',\n",
       "     'full_title': '\\u200bm.A.A.d city by\\xa0Kendrick\\xa0Lamar (Ft.\\xa0MC\\xa0Eiht)',\n",
       "     'header_image_thumbnail_url': 'https://images.genius.com/7ce90585a9da57d4ee67a09f27d8d6bc.300x300x1.jpg',\n",
       "     'header_image_url': 'https://images.genius.com/7ce90585a9da57d4ee67a09f27d8d6bc.1000x1000x1.jpg',\n",
       "     'id': 90478,\n",
       "     'lyrics_owner_id': 103971,\n",
       "     'lyrics_state': 'complete',\n",
       "     'path': '/Kendrick-lamar-maad-city-lyrics',\n",
       "     'pyongs_count': 2146,\n",
       "     'song_art_image_thumbnail_url': 'https://images.genius.com/7ce90585a9da57d4ee67a09f27d8d6bc.300x300x1.jpg',\n",
       "     'song_art_image_url': 'https://images.genius.com/7ce90585a9da57d4ee67a09f27d8d6bc.1000x1000x1.jpg',\n",
       "     'stats': {'unreviewed_annotations': 0,\n",
       "      'concurrents': 5,\n",
       "      'hot': False,\n",
       "      'pageviews': 6291173},\n",
       "     'title': '\\u200bm.A.A.d city',\n",
       "     'title_with_featured': '\\u200bm.A.A.d city (Ft.\\xa0MC\\xa0Eiht)',\n",
       "     'url': 'https://genius.com/Kendrick-lamar-maad-city-lyrics',\n",
       "     'primary_artist': {'api_path': '/artists/1421',\n",
       "      'header_image_url': 'https://images.genius.com/f3a1149475f2406582e3531041680a3c.1000x800x1.jpg',\n",
       "      'id': 1421,\n",
       "      'image_url': 'https://images.genius.com/25d8a9c93ab97e9e6d5d1d9d36e64a53.1000x1000x1.jpg',\n",
       "      'is_meme_verified': True,\n",
       "      'is_verified': True,\n",
       "      'name': 'Kendrick Lamar',\n",
       "      'url': 'https://genius.com/artists/Kendrick-lamar',\n",
       "      'iq': 40634}}},\n",
       "   {'highlights': [],\n",
       "    'index': 'song',\n",
       "    'type': 'song',\n",
       "    'result': {'annotation_count': 49,\n",
       "     'api_path': '/songs/81159',\n",
       "     'full_title': 'Swimming Pools (Drank) by\\xa0Kendrick\\xa0Lamar',\n",
       "     'header_image_thumbnail_url': 'https://images.genius.com/08bd7e3fd36bc6cf8fca520c5e475903.300x299x1.jpg',\n",
       "     'header_image_url': 'https://images.genius.com/08bd7e3fd36bc6cf8fca520c5e475903.923x919x1.jpg',\n",
       "     'id': 81159,\n",
       "     'lyrics_owner_id': 11524,\n",
       "     'lyrics_state': 'complete',\n",
       "     'path': '/Kendrick-lamar-swimming-pools-drank-lyrics',\n",
       "     'pyongs_count': 901,\n",
       "     'song_art_image_thumbnail_url': 'https://images.rapgenius.com/6ae8dfaad68e239d83a87163903257d1.300x300x1.jpg',\n",
       "     'song_art_image_url': 'https://images.rapgenius.com/6ae8dfaad68e239d83a87163903257d1.1000x1000x1.jpg',\n",
       "     'stats': {'unreviewed_annotations': 0,\n",
       "      'concurrents': 3,\n",
       "      'hot': False,\n",
       "      'pageviews': 5708646},\n",
       "     'title': 'Swimming Pools (Drank)',\n",
       "     'title_with_featured': 'Swimming Pools (Drank)',\n",
       "     'url': 'https://genius.com/Kendrick-lamar-swimming-pools-drank-lyrics',\n",
       "     'primary_artist': {'api_path': '/artists/1421',\n",
       "      'header_image_url': 'https://images.genius.com/f3a1149475f2406582e3531041680a3c.1000x800x1.jpg',\n",
       "      'id': 1421,\n",
       "      'image_url': 'https://images.genius.com/25d8a9c93ab97e9e6d5d1d9d36e64a53.1000x1000x1.jpg',\n",
       "      'is_meme_verified': True,\n",
       "      'is_verified': True,\n",
       "      'name': 'Kendrick Lamar',\n",
       "      'url': 'https://genius.com/artists/Kendrick-lamar',\n",
       "      'iq': 40634}}},\n",
       "   {'highlights': [],\n",
       "    'index': 'song',\n",
       "    'type': 'song',\n",
       "    'result': {'annotation_count': 37,\n",
       "     'api_path': '/songs/3035222',\n",
       "     'full_title': 'DNA. by\\xa0Kendrick\\xa0Lamar',\n",
       "     'header_image_thumbnail_url': 'https://images.genius.com/d25e7043f51c2de6acaf6c39caa60da2.300x300x1.jpg',\n",
       "     'header_image_url': 'https://images.genius.com/d25e7043f51c2de6acaf6c39caa60da2.1000x1000x1.jpg',\n",
       "     'id': 3035222,\n",
       "     'lyrics_owner_id': 104344,\n",
       "     'lyrics_state': 'complete',\n",
       "     'path': '/Kendrick-lamar-dna-lyrics',\n",
       "     'pyongs_count': 570,\n",
       "     'song_art_image_thumbnail_url': 'https://images.genius.com/d25e7043f51c2de6acaf6c39caa60da2.300x300x1.jpg',\n",
       "     'song_art_image_url': 'https://images.genius.com/d25e7043f51c2de6acaf6c39caa60da2.1000x1000x1.jpg',\n",
       "     'stats': {'unreviewed_annotations': 0,\n",
       "      'concurrents': 2,\n",
       "      'hot': False,\n",
       "      'pageviews': 5292505},\n",
       "     'title': 'DNA.',\n",
       "     'title_with_featured': 'DNA.',\n",
       "     'url': 'https://genius.com/Kendrick-lamar-dna-lyrics',\n",
       "     'primary_artist': {'api_path': '/artists/1421',\n",
       "      'header_image_url': 'https://images.genius.com/f3a1149475f2406582e3531041680a3c.1000x800x1.jpg',\n",
       "      'id': 1421,\n",
       "      'image_url': 'https://images.genius.com/25d8a9c93ab97e9e6d5d1d9d36e64a53.1000x1000x1.jpg',\n",
       "      'is_meme_verified': True,\n",
       "      'is_verified': True,\n",
       "      'name': 'Kendrick Lamar',\n",
       "      'url': 'https://genius.com/artists/Kendrick-lamar',\n",
       "      'iq': 40634}}},\n",
       "   {'highlights': [],\n",
       "    'index': 'song',\n",
       "    'type': 'song',\n",
       "    'result': {'annotation_count': 51,\n",
       "     'api_path': '/songs/90475',\n",
       "     'full_title': 'Money Trees by\\xa0Kendrick\\xa0Lamar (Ft.\\xa0Jay\\xa0Rock)',\n",
       "     'header_image_thumbnail_url': 'https://images.genius.com/c567238c3d5781eed61a93baff46f678.300x300x1.jpg',\n",
       "     'header_image_url': 'https://images.genius.com/c567238c3d5781eed61a93baff46f678.1000x1000x1.jpg',\n",
       "     'id': 90475,\n",
       "     'lyrics_owner_id': 1328,\n",
       "     'lyrics_state': 'complete',\n",
       "     'path': '/Kendrick-lamar-money-trees-lyrics',\n",
       "     'pyongs_count': 889,\n",
       "     'song_art_image_thumbnail_url': 'https://images.genius.com/c567238c3d5781eed61a93baff46f678.300x300x1.jpg',\n",
       "     'song_art_image_url': 'https://images.genius.com/c567238c3d5781eed61a93baff46f678.1000x1000x1.jpg',\n",
       "     'stats': {'unreviewed_annotations': 0,\n",
       "      'concurrents': 2,\n",
       "      'hot': False,\n",
       "      'pageviews': 4742237},\n",
       "     'title': 'Money Trees',\n",
       "     'title_with_featured': 'Money Trees (Ft.\\xa0Jay\\xa0Rock)',\n",
       "     'url': 'https://genius.com/Kendrick-lamar-money-trees-lyrics',\n",
       "     'primary_artist': {'api_path': '/artists/1421',\n",
       "      'header_image_url': 'https://images.genius.com/f3a1149475f2406582e3531041680a3c.1000x800x1.jpg',\n",
       "      'id': 1421,\n",
       "      'image_url': 'https://images.genius.com/25d8a9c93ab97e9e6d5d1d9d36e64a53.1000x1000x1.jpg',\n",
       "      'is_meme_verified': True,\n",
       "      'is_verified': True,\n",
       "      'name': 'Kendrick Lamar',\n",
       "      'url': 'https://genius.com/artists/Kendrick-lamar',\n",
       "      'iq': 40634}}},\n",
       "   {'highlights': [],\n",
       "    'index': 'song',\n",
       "    'type': 'song',\n",
       "    'result': {'annotation_count': 25,\n",
       "     'api_path': '/songs/3047142',\n",
       "     'full_title': 'XXX. by\\xa0Kendrick\\xa0Lamar (Ft.\\xa0U2)',\n",
       "     'header_image_thumbnail_url': 'https://images.genius.com/d25e7043f51c2de6acaf6c39caa60da2.300x300x1.jpg',\n",
       "     'header_image_url': 'https://images.genius.com/d25e7043f51c2de6acaf6c39caa60da2.1000x1000x1.jpg',\n",
       "     'id': 3047142,\n",
       "     'lyrics_owner_id': 599242,\n",
       "     'lyrics_state': 'complete',\n",
       "     'path': '/Kendrick-lamar-xxx-lyrics',\n",
       "     'pyongs_count': 191,\n",
       "     'song_art_image_thumbnail_url': 'https://images.genius.com/d25e7043f51c2de6acaf6c39caa60da2.300x300x1.jpg',\n",
       "     'song_art_image_url': 'https://images.genius.com/d25e7043f51c2de6acaf6c39caa60da2.1000x1000x1.jpg',\n",
       "     'stats': {'unreviewed_annotations': 0,\n",
       "      'concurrents': 2,\n",
       "      'hot': False,\n",
       "      'pageviews': 4737918},\n",
       "     'title': 'XXX.',\n",
       "     'title_with_featured': 'XXX. (Ft.\\xa0U2)',\n",
       "     'url': 'https://genius.com/Kendrick-lamar-xxx-lyrics',\n",
       "     'primary_artist': {'api_path': '/artists/1421',\n",
       "      'header_image_url': 'https://images.genius.com/f3a1149475f2406582e3531041680a3c.1000x800x1.jpg',\n",
       "      'id': 1421,\n",
       "      'image_url': 'https://images.genius.com/25d8a9c93ab97e9e6d5d1d9d36e64a53.1000x1000x1.jpg',\n",
       "      'is_meme_verified': True,\n",
       "      'is_verified': True,\n",
       "      'name': 'Kendrick Lamar',\n",
       "      'url': 'https://genius.com/artists/Kendrick-lamar',\n",
       "      'iq': 40634}}},\n",
       "   {'highlights': [],\n",
       "    'index': 'song',\n",
       "    'type': 'song',\n",
       "    'result': {'annotation_count': 39,\n",
       "     'api_path': '/songs/90473',\n",
       "     'full_title': \"Bitch, Don't Kill My Vibe by\\xa0Kendrick\\xa0Lamar\",\n",
       "     'header_image_thumbnail_url': 'https://images.genius.com/71de91b0a7f63cb65044ab728c0b6cef.300x300x1.jpg',\n",
       "     'header_image_url': 'https://images.genius.com/71de91b0a7f63cb65044ab728c0b6cef.1000x1000x1.jpg',\n",
       "     'id': 90473,\n",
       "     'lyrics_owner_id': 83406,\n",
       "     'lyrics_state': 'complete',\n",
       "     'path': '/Kendrick-lamar-bitch-dont-kill-my-vibe-lyrics',\n",
       "     'pyongs_count': 643,\n",
       "     'song_art_image_thumbnail_url': 'https://images.genius.com/30b5f019ee61590232df42bd88d3267a.268x268x1.jpg',\n",
       "     'song_art_image_url': 'https://images.genius.com/30b5f019ee61590232df42bd88d3267a.268x268x1.jpg',\n",
       "     'stats': {'unreviewed_annotations': 0,\n",
       "      'concurrents': 3,\n",
       "      'hot': False,\n",
       "      'pageviews': 4552651},\n",
       "     'title': 'Bitch, Don’t Kill My Vibe',\n",
       "     'title_with_featured': \"Bitch, Don't Kill My Vibe\",\n",
       "     'url': 'https://genius.com/Kendrick-lamar-bitch-dont-kill-my-vibe-lyrics',\n",
       "     'primary_artist': {'api_path': '/artists/1421',\n",
       "      'header_image_url': 'https://images.genius.com/f3a1149475f2406582e3531041680a3c.1000x800x1.jpg',\n",
       "      'id': 1421,\n",
       "      'image_url': 'https://images.genius.com/25d8a9c93ab97e9e6d5d1d9d36e64a53.1000x1000x1.jpg',\n",
       "      'is_meme_verified': True,\n",
       "      'is_verified': True,\n",
       "      'name': 'Kendrick Lamar',\n",
       "      'url': 'https://genius.com/artists/Kendrick-lamar',\n",
       "      'iq': 40634}}},\n",
       "   {'highlights': [],\n",
       "    'index': 'song',\n",
       "    'type': 'song',\n",
       "    'result': {'annotation_count': 35,\n",
       "     'api_path': '/songs/92856',\n",
       "     'full_title': 'Poetic Justice by\\xa0Kendrick\\xa0Lamar (Ft.\\xa0Drake)',\n",
       "     'header_image_thumbnail_url': 'https://images.genius.com/f3db37bb8953d6e671d8bb532da2e855.220x220x1.jpg',\n",
       "     'header_image_url': 'https://images.genius.com/f3db37bb8953d6e671d8bb532da2e855.220x220x1.jpg',\n",
       "     'id': 92856,\n",
       "     'lyrics_owner_id': 110771,\n",
       "     'lyrics_state': 'complete',\n",
       "     'path': '/Kendrick-lamar-poetic-justice-lyrics',\n",
       "     'pyongs_count': 390,\n",
       "     'song_art_image_thumbnail_url': 'https://images.genius.com/f3db37bb8953d6e671d8bb532da2e855.220x220x1.jpg',\n",
       "     'song_art_image_url': 'https://images.genius.com/f3db37bb8953d6e671d8bb532da2e855.220x220x1.jpg',\n",
       "     'stats': {'unreviewed_annotations': 0,\n",
       "      'hot': False,\n",
       "      'pageviews': 4213402},\n",
       "     'title': 'Poetic Justice',\n",
       "     'title_with_featured': 'Poetic Justice (Ft.\\xa0Drake)',\n",
       "     'url': 'https://genius.com/Kendrick-lamar-poetic-justice-lyrics',\n",
       "     'primary_artist': {'api_path': '/artists/1421',\n",
       "      'header_image_url': 'https://images.genius.com/f3a1149475f2406582e3531041680a3c.1000x800x1.jpg',\n",
       "      'id': 1421,\n",
       "      'image_url': 'https://images.genius.com/25d8a9c93ab97e9e6d5d1d9d36e64a53.1000x1000x1.jpg',\n",
       "      'is_meme_verified': True,\n",
       "      'is_verified': True,\n",
       "      'name': 'Kendrick Lamar',\n",
       "      'url': 'https://genius.com/artists/Kendrick-lamar',\n",
       "      'iq': 40634}}},\n",
       "   {'highlights': [],\n",
       "    'index': 'song',\n",
       "    'type': 'song',\n",
       "    'result': {'annotation_count': 24,\n",
       "     'api_path': '/songs/721659',\n",
       "     'full_title': 'King Kunta by\\xa0Kendrick\\xa0Lamar',\n",
       "     'header_image_thumbnail_url': 'https://images.rapgenius.com/5c45787f8bcd449a46bc3d1b50e65cc8.300x300x1.jpg',\n",
       "     'header_image_url': 'https://images.rapgenius.com/5c45787f8bcd449a46bc3d1b50e65cc8.640x640x1.jpg',\n",
       "     'id': 721659,\n",
       "     'lyrics_owner_id': 599242,\n",
       "     'lyrics_state': 'complete',\n",
       "     'path': '/Kendrick-lamar-king-kunta-lyrics',\n",
       "     'pyongs_count': 1917,\n",
       "     'song_art_image_thumbnail_url': 'https://images.rapgenius.com/5c45787f8bcd449a46bc3d1b50e65cc8.300x300x1.jpg',\n",
       "     'song_art_image_url': 'https://images.rapgenius.com/5c45787f8bcd449a46bc3d1b50e65cc8.640x640x1.jpg',\n",
       "     'stats': {'unreviewed_annotations': 0,\n",
       "      'concurrents': 2,\n",
       "      'hot': False,\n",
       "      'pageviews': 4086016},\n",
       "     'title': 'King Kunta',\n",
       "     'title_with_featured': 'King Kunta',\n",
       "     'url': 'https://genius.com/Kendrick-lamar-king-kunta-lyrics',\n",
       "     'primary_artist': {'api_path': '/artists/1421',\n",
       "      'header_image_url': 'https://images.genius.com/f3a1149475f2406582e3531041680a3c.1000x800x1.jpg',\n",
       "      'id': 1421,\n",
       "      'image_url': 'https://images.genius.com/25d8a9c93ab97e9e6d5d1d9d36e64a53.1000x1000x1.jpg',\n",
       "      'is_meme_verified': True,\n",
       "      'is_verified': True,\n",
       "      'name': 'Kendrick Lamar',\n",
       "      'url': 'https://genius.com/artists/Kendrick-lamar',\n",
       "      'iq': 40634}}},\n",
       "   {'highlights': [],\n",
       "    'index': 'song',\n",
       "    'type': 'song',\n",
       "    'result': {'annotation_count': 17,\n",
       "     'api_path': '/songs/3047141',\n",
       "     'full_title': 'LOVE. by\\xa0Kendrick\\xa0Lamar (Ft.\\xa0Zacari)',\n",
       "     'header_image_thumbnail_url': 'https://images.genius.com/d25e7043f51c2de6acaf6c39caa60da2.300x300x1.jpg',\n",
       "     'header_image_url': 'https://images.genius.com/d25e7043f51c2de6acaf6c39caa60da2.1000x1000x1.jpg',\n",
       "     'id': 3047141,\n",
       "     'lyrics_owner_id': 389740,\n",
       "     'lyrics_state': 'complete',\n",
       "     'path': '/Kendrick-lamar-love-lyrics',\n",
       "     'pyongs_count': 219,\n",
       "     'song_art_image_thumbnail_url': 'https://images.genius.com/d25e7043f51c2de6acaf6c39caa60da2.300x300x1.jpg',\n",
       "     'song_art_image_url': 'https://images.genius.com/d25e7043f51c2de6acaf6c39caa60da2.1000x1000x1.jpg',\n",
       "     'stats': {'unreviewed_annotations': 0,\n",
       "      'concurrents': 2,\n",
       "      'hot': False,\n",
       "      'pageviews': 3627965},\n",
       "     'title': 'LOVE.',\n",
       "     'title_with_featured': 'LOVE. (Ft.\\xa0Zacari)',\n",
       "     'url': 'https://genius.com/Kendrick-lamar-love-lyrics',\n",
       "     'primary_artist': {'api_path': '/artists/1421',\n",
       "      'header_image_url': 'https://images.genius.com/f3a1149475f2406582e3531041680a3c.1000x800x1.jpg',\n",
       "      'id': 1421,\n",
       "      'image_url': 'https://images.genius.com/25d8a9c93ab97e9e6d5d1d9d36e64a53.1000x1000x1.jpg',\n",
       "      'is_meme_verified': True,\n",
       "      'is_verified': True,\n",
       "      'name': 'Kendrick Lamar',\n",
       "      'url': 'https://genius.com/artists/Kendrick-lamar',\n",
       "      'iq': 40634}}}]}}"
      ]
     },
     "execution_count": 39,
     "metadata": {},
     "output_type": "execute_result"
    }
   ],
   "source": [
    "results = requests.get(search_url).json()\n",
    "results"
   ]
  },
  {
   "cell_type": "code",
   "execution_count": 29,
   "metadata": {
    "scrolled": true
   },
   "outputs": [
    {
     "data": {
      "text/plain": [
       "'Kendrick Lamar'"
      ]
     },
     "execution_count": 29,
     "metadata": {},
     "output_type": "execute_result"
    }
   ],
   "source": [
    "artist_name = results['response']['hits'][0]['result']['primary_artist']['name']\n",
    "artist_name"
   ]
  },
  {
   "cell_type": "code",
   "execution_count": 30,
   "metadata": {
    "scrolled": true
   },
   "outputs": [
    {
     "data": {
      "text/plain": [
       "'https://images.genius.com/4387b0bcc88e07676997ba73793cc73c.300x300x1.jpg'"
      ]
     },
     "execution_count": 30,
     "metadata": {},
     "output_type": "execute_result"
    }
   ],
   "source": [
    "#image_url = results['response']['hits'][0]['result']['header_image_url']\n",
    "thumbnail_url = results['response']['hits'][0]['result']['song_art_image_thumbnail_url']\n",
    "thumbnail_url"
   ]
  },
  {
   "cell_type": "code",
   "execution_count": 22,
   "metadata": {
    "scrolled": true
   },
   "outputs": [
    {
     "data": {
      "text/plain": [
       "'HUMBLE.'"
      ]
     },
     "execution_count": 22,
     "metadata": {},
     "output_type": "execute_result"
    }
   ],
   "source": [
    "song_title = results['response']['hits'][0]['result']['title']\n",
    "song_title"
   ]
  },
  {
   "cell_type": "code",
   "execution_count": 31,
   "metadata": {
    "scrolled": true
   },
   "outputs": [
    {
     "data": {
      "text/plain": [
       "3039923"
      ]
     },
     "execution_count": 31,
     "metadata": {},
     "output_type": "execute_result"
    }
   ],
   "source": [
    "song_id = results['response']['hits'][0]['result']['id']\n",
    "song_id"
   ]
  },
  {
   "cell_type": "code",
   "execution_count": 33,
   "metadata": {
    "scrolled": false
   },
   "outputs": [
    {
     "name": "stdout",
     "output_type": "stream",
     "text": [
      "0: HUMBLE. by Kendrick Lamar\n",
      "1: ​m.A.A.d city by Kendrick Lamar\n",
      "2: Swimming Pools (Drank) by Kendrick Lamar\n",
      "3: DNA. by Kendrick Lamar\n",
      "4: Money Trees by Kendrick Lamar\n",
      "5: XXX. by Kendrick Lamar\n",
      "6: Bitch, Don’t Kill My Vibe by Kendrick Lamar\n",
      "7: Poetic Justice by Kendrick Lamar\n",
      "8: King Kunta by Kendrick Lamar\n",
      "9: LOVE. by Kendrick Lamar\n"
     ]
    }
   ],
   "source": [
    "hit_count = len(results['response']['hits'])\n",
    "for i in range(0, hit_count):\n",
    "    artist_name = results['response']['hits'][i]['result']['primary_artist']['name']\n",
    "    song_title = results['response']['hits'][i]['result']['title']\n",
    "    print('{}: {} by {}'.format(i, song_title, artist_name))"
   ]
  },
  {
   "cell_type": "markdown",
   "metadata": {},
   "source": [
    "## Song lookup"
   ]
  },
  {
   "cell_type": "code",
   "execution_count": 37,
   "metadata": {
    "scrolled": true
   },
   "outputs": [
    {
     "data": {
      "text/plain": [
       "'https://api.genius.com/songs/378195&access_token=ezyMlZQCRQuE3LWuMB5-shJYRsPm3fKqRfT2rKOKmD6jbU01jvKo_QNZi_zU2ACs'"
      ]
     },
     "execution_count": 37,
     "metadata": {},
     "output_type": "execute_result"
    }
   ],
   "source": [
    "#ACCESS_TOKEN = 'jEjbT34-L73sTqmH4xwmDxQvnnX6HNCBtezF2vZ8VvFducQGD0hF51Hdt7EB7VBW'\n",
    "ACCESS_TOKEN = 'ezyMlZQCRQuE3LWuMB5-shJYRsPm3fKqRfT2rKOKmD6jbU01jvKo_QNZi_zU2ACs'\n",
    "search_url = 'https://api.genius.com/songs/378195&access_token={}'.format(ACCESS_TOKEN)\n",
    "search_url"
   ]
  },
  {
   "cell_type": "code",
   "execution_count": null,
   "metadata": {
    "scrolled": true
   },
   "outputs": [],
   "source": [
    "results = requests.get(search_url).json()\n",
    "results"
   ]
  }
 ],
 "metadata": {
  "kernelspec": {
   "display_name": "Python 3",
   "language": "python",
   "name": "python3"
  },
  "language_info": {
   "codemirror_mode": {
    "name": "ipython",
    "version": 3
   },
   "file_extension": ".py",
   "mimetype": "text/x-python",
   "name": "python",
   "nbconvert_exporter": "python",
   "pygments_lexer": "ipython3",
   "version": "3.7.3"
  }
 },
 "nbformat": 4,
 "nbformat_minor": 4
}
