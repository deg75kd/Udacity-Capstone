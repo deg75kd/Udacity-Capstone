{
 "cells": [
  {
   "cell_type": "code",
   "execution_count": 30,
   "metadata": {},
   "outputs": [],
   "source": [
    "#import pandas as pd\n",
    "#import getpass\n",
    "import plotly.graph_objs as go\n",
    "import pickle\n",
    "\n",
    "#import psycopg2\n",
    "#import sqlalchemy\n",
    "#from sqlalchemy import create_engine"
   ]
  },
  {
   "cell_type": "code",
   "execution_count": 31,
   "metadata": {},
   "outputs": [],
   "source": [
    "#import nltk\n",
    "#from nltk.tokenize import word_tokenize\n",
    "#from nltk.stem import WordNetLemmatizer\n",
    "#from sklearn.metrics import confusion_matrix, classification_report\n",
    "#from sklearn.model_selection import GridSearchCV\n",
    "#from sklearn.ensemble import RandomForestClassifier\n",
    "#from sklearn.model_selection import train_test_split\n",
    "#from sklearn.pipeline import Pipeline, FeatureUnion\n",
    "#from sklearn.base import BaseEstimator, TransformerMixin\n",
    "#from sklearn.feature_extraction.text import CountVectorizer, TfidfTransformer"
   ]
  },
  {
   "cell_type": "code",
   "execution_count": 32,
   "metadata": {},
   "outputs": [],
   "source": [
    "pickle_file = './data/classifier.pkl'\n",
    "#cnf_matrix_pkl = './data/matrix.pkl'\n",
    "cls_report_pkl = './data/cls_report.pkl'\n",
    "cnf_df_pkl = './data/cnf_df.pkl'"
   ]
  },
  {
   "cell_type": "code",
   "execution_count": 33,
   "metadata": {},
   "outputs": [],
   "source": [
    "#def tokenize(text):\n",
    "#    tokens = word_tokenize(text)\n",
    "#    lemmatizer = WordNetLemmatizer()\n",
    "#    \n",
    "#    clean_tokens = []\n",
    "#    for tok in tokens:\n",
    "#        clean_tok = lemmatizer.lemmatize(tok).lower().strip()\n",
    "#        clean_tokens.append(clean_tok)\n",
    "#        \n",
    "#    return clean_tokens"
   ]
  },
  {
   "cell_type": "code",
   "execution_count": 34,
   "metadata": {},
   "outputs": [],
   "source": [
    "file = open(pickle_file, 'rb')\n",
    "model = pickle.load(file)\n",
    "file.close()"
   ]
  },
  {
   "cell_type": "code",
   "execution_count": 35,
   "metadata": {
    "scrolled": true
   },
   "outputs": [
    {
     "data": {
      "text/plain": [
       "sklearn.model_selection._search.GridSearchCV"
      ]
     },
     "execution_count": 35,
     "metadata": {},
     "output_type": "execute_result"
    }
   ],
   "source": [
    "type(model)"
   ]
  },
  {
   "cell_type": "code",
   "execution_count": 36,
   "metadata": {},
   "outputs": [
    {
     "data": {
      "text/plain": [
       "0.5432241508844852"
      ]
     },
     "execution_count": 36,
     "metadata": {},
     "output_type": "execute_result"
    }
   ],
   "source": [
    "# Mean cross-validated score of the best_estimator\n",
    "model.best_score_"
   ]
  },
  {
   "cell_type": "code",
   "execution_count": 37,
   "metadata": {},
   "outputs": [
    {
     "data": {
      "text/plain": [
       "9294.826904773712"
      ]
     },
     "execution_count": 37,
     "metadata": {},
     "output_type": "execute_result"
    }
   ],
   "source": [
    "# Seconds used for refitting the best model on the whole dataset.\n",
    "model.refit_time_"
   ]
  },
  {
   "cell_type": "code",
   "execution_count": 38,
   "metadata": {},
   "outputs": [
    {
     "data": {
      "text/plain": [
       "{'clf__n_estimators': 50, 'tfidf__use_idf': False, 'vect__max_df': 0.5}"
      ]
     },
     "execution_count": 38,
     "metadata": {},
     "output_type": "execute_result"
    }
   ],
   "source": [
    "# Parameter setting that gave the best results on the hold out data.\n",
    "model.best_params_"
   ]
  },
  {
   "cell_type": "code",
   "execution_count": 39,
   "metadata": {},
   "outputs": [
    {
     "data": {
      "text/plain": [
       "<function sklearn.metrics._scorer._passthrough_scorer(estimator, *args, **kwargs)>"
      ]
     },
     "execution_count": 39,
     "metadata": {},
     "output_type": "execute_result"
    }
   ],
   "source": [
    "# Scorer function used on the held out data to choose the best parameters for the model.\n",
    "model.scorer_"
   ]
  },
  {
   "cell_type": "code",
   "execution_count": 40,
   "metadata": {},
   "outputs": [
    {
     "data": {
      "text/html": [
       "<div>\n",
       "<style scoped>\n",
       "    .dataframe tbody tr th:only-of-type {\n",
       "        vertical-align: middle;\n",
       "    }\n",
       "\n",
       "    .dataframe tbody tr th {\n",
       "        vertical-align: top;\n",
       "    }\n",
       "\n",
       "    .dataframe thead th {\n",
       "        text-align: right;\n",
       "    }\n",
       "</style>\n",
       "<table border=\"1\" class=\"dataframe\">\n",
       "  <thead>\n",
       "    <tr style=\"text-align: right;\">\n",
       "      <th></th>\n",
       "      <th>mean_fit_time</th>\n",
       "      <th>std_fit_time</th>\n",
       "      <th>mean_score_time</th>\n",
       "      <th>std_score_time</th>\n",
       "      <th>param_clf__n_estimators</th>\n",
       "      <th>param_tfidf__use_idf</th>\n",
       "      <th>param_vect__max_df</th>\n",
       "      <th>params</th>\n",
       "      <th>split0_test_score</th>\n",
       "      <th>split1_test_score</th>\n",
       "      <th>split2_test_score</th>\n",
       "      <th>mean_test_score</th>\n",
       "      <th>std_test_score</th>\n",
       "      <th>rank_test_score</th>\n",
       "    </tr>\n",
       "  </thead>\n",
       "  <tbody>\n",
       "    <tr>\n",
       "      <th>0</th>\n",
       "      <td>5077.979170</td>\n",
       "      <td>42.514198</td>\n",
       "      <td>32.609375</td>\n",
       "      <td>0.497553</td>\n",
       "      <td>50</td>\n",
       "      <td>True</td>\n",
       "      <td>0.5</td>\n",
       "      <td>{'clf__n_estimators': 50, 'tfidf__use_idf': Tr...</td>\n",
       "      <td>0.540819</td>\n",
       "      <td>0.542048</td>\n",
       "      <td>0.541200</td>\n",
       "      <td>0.541356</td>\n",
       "      <td>0.000514</td>\n",
       "      <td>6</td>\n",
       "    </tr>\n",
       "    <tr>\n",
       "      <th>1</th>\n",
       "      <td>5029.015625</td>\n",
       "      <td>99.579815</td>\n",
       "      <td>32.380209</td>\n",
       "      <td>0.490192</td>\n",
       "      <td>50</td>\n",
       "      <td>True</td>\n",
       "      <td>1</td>\n",
       "      <td>{'clf__n_estimators': 50, 'tfidf__use_idf': Tr...</td>\n",
       "      <td>0.541068</td>\n",
       "      <td>0.542444</td>\n",
       "      <td>0.540717</td>\n",
       "      <td>0.541409</td>\n",
       "      <td>0.000745</td>\n",
       "      <td>5</td>\n",
       "    </tr>\n",
       "    <tr>\n",
       "      <th>2</th>\n",
       "      <td>5056.156252</td>\n",
       "      <td>65.595444</td>\n",
       "      <td>31.484375</td>\n",
       "      <td>0.414774</td>\n",
       "      <td>50</td>\n",
       "      <td>False</td>\n",
       "      <td>0.5</td>\n",
       "      <td>{'clf__n_estimators': 50, 'tfidf__use_idf': Fa...</td>\n",
       "      <td>0.542473</td>\n",
       "      <td>0.543922</td>\n",
       "      <td>0.543278</td>\n",
       "      <td>0.543224</td>\n",
       "      <td>0.000593</td>\n",
       "      <td>1</td>\n",
       "    </tr>\n",
       "    <tr>\n",
       "      <th>3</th>\n",
       "      <td>5117.046874</td>\n",
       "      <td>5.466977</td>\n",
       "      <td>31.713542</td>\n",
       "      <td>0.250759</td>\n",
       "      <td>50</td>\n",
       "      <td>False</td>\n",
       "      <td>1</td>\n",
       "      <td>{'clf__n_estimators': 50, 'tfidf__use_idf': Fa...</td>\n",
       "      <td>0.542005</td>\n",
       "      <td>0.544361</td>\n",
       "      <td>0.541814</td>\n",
       "      <td>0.542727</td>\n",
       "      <td>0.001158</td>\n",
       "      <td>4</td>\n",
       "    </tr>\n",
       "    <tr>\n",
       "      <th>4</th>\n",
       "      <td>10073.708327</td>\n",
       "      <td>189.447534</td>\n",
       "      <td>41.916667</td>\n",
       "      <td>0.403905</td>\n",
       "      <td>100</td>\n",
       "      <td>True</td>\n",
       "      <td>0.5</td>\n",
       "      <td>{'clf__n_estimators': 100, 'tfidf__use_idf': T...</td>\n",
       "      <td>0.540892</td>\n",
       "      <td>0.541258</td>\n",
       "      <td>0.540073</td>\n",
       "      <td>0.540741</td>\n",
       "      <td>0.000496</td>\n",
       "      <td>7</td>\n",
       "    </tr>\n",
       "    <tr>\n",
       "      <th>5</th>\n",
       "      <td>9963.500001</td>\n",
       "      <td>235.853490</td>\n",
       "      <td>42.114583</td>\n",
       "      <td>0.306273</td>\n",
       "      <td>100</td>\n",
       "      <td>True</td>\n",
       "      <td>1</td>\n",
       "      <td>{'clf__n_estimators': 100, 'tfidf__use_idf': T...</td>\n",
       "      <td>0.541053</td>\n",
       "      <td>0.541082</td>\n",
       "      <td>0.540043</td>\n",
       "      <td>0.540726</td>\n",
       "      <td>0.000483</td>\n",
       "      <td>8</td>\n",
       "    </tr>\n",
       "    <tr>\n",
       "      <th>6</th>\n",
       "      <td>10200.908339</td>\n",
       "      <td>195.665113</td>\n",
       "      <td>42.097666</td>\n",
       "      <td>1.288181</td>\n",
       "      <td>100</td>\n",
       "      <td>False</td>\n",
       "      <td>0.5</td>\n",
       "      <td>{'clf__n_estimators': 100, 'tfidf__use_idf': F...</td>\n",
       "      <td>0.542122</td>\n",
       "      <td>0.543249</td>\n",
       "      <td>0.542868</td>\n",
       "      <td>0.542746</td>\n",
       "      <td>0.000468</td>\n",
       "      <td>3</td>\n",
       "    </tr>\n",
       "    <tr>\n",
       "      <th>7</th>\n",
       "      <td>10407.963687</td>\n",
       "      <td>60.408986</td>\n",
       "      <td>37.266333</td>\n",
       "      <td>1.629766</td>\n",
       "      <td>100</td>\n",
       "      <td>False</td>\n",
       "      <td>1</td>\n",
       "      <td>{'clf__n_estimators': 100, 'tfidf__use_idf': F...</td>\n",
       "      <td>0.542444</td>\n",
       "      <td>0.544156</td>\n",
       "      <td>0.542502</td>\n",
       "      <td>0.543034</td>\n",
       "      <td>0.000794</td>\n",
       "      <td>2</td>\n",
       "    </tr>\n",
       "  </tbody>\n",
       "</table>\n",
       "</div>"
      ],
      "text/plain": [
       "   mean_fit_time  std_fit_time  mean_score_time  std_score_time  \\\n",
       "0    5077.979170     42.514198        32.609375        0.497553   \n",
       "1    5029.015625     99.579815        32.380209        0.490192   \n",
       "2    5056.156252     65.595444        31.484375        0.414774   \n",
       "3    5117.046874      5.466977        31.713542        0.250759   \n",
       "4   10073.708327    189.447534        41.916667        0.403905   \n",
       "5    9963.500001    235.853490        42.114583        0.306273   \n",
       "6   10200.908339    195.665113        42.097666        1.288181   \n",
       "7   10407.963687     60.408986        37.266333        1.629766   \n",
       "\n",
       "  param_clf__n_estimators param_tfidf__use_idf param_vect__max_df  \\\n",
       "0                      50                 True                0.5   \n",
       "1                      50                 True                  1   \n",
       "2                      50                False                0.5   \n",
       "3                      50                False                  1   \n",
       "4                     100                 True                0.5   \n",
       "5                     100                 True                  1   \n",
       "6                     100                False                0.5   \n",
       "7                     100                False                  1   \n",
       "\n",
       "                                              params  split0_test_score  \\\n",
       "0  {'clf__n_estimators': 50, 'tfidf__use_idf': Tr...           0.540819   \n",
       "1  {'clf__n_estimators': 50, 'tfidf__use_idf': Tr...           0.541068   \n",
       "2  {'clf__n_estimators': 50, 'tfidf__use_idf': Fa...           0.542473   \n",
       "3  {'clf__n_estimators': 50, 'tfidf__use_idf': Fa...           0.542005   \n",
       "4  {'clf__n_estimators': 100, 'tfidf__use_idf': T...           0.540892   \n",
       "5  {'clf__n_estimators': 100, 'tfidf__use_idf': T...           0.541053   \n",
       "6  {'clf__n_estimators': 100, 'tfidf__use_idf': F...           0.542122   \n",
       "7  {'clf__n_estimators': 100, 'tfidf__use_idf': F...           0.542444   \n",
       "\n",
       "   split1_test_score  split2_test_score  mean_test_score  std_test_score  \\\n",
       "0           0.542048           0.541200         0.541356        0.000514   \n",
       "1           0.542444           0.540717         0.541409        0.000745   \n",
       "2           0.543922           0.543278         0.543224        0.000593   \n",
       "3           0.544361           0.541814         0.542727        0.001158   \n",
       "4           0.541258           0.540073         0.540741        0.000496   \n",
       "5           0.541082           0.540043         0.540726        0.000483   \n",
       "6           0.543249           0.542868         0.542746        0.000468   \n",
       "7           0.544156           0.542502         0.543034        0.000794   \n",
       "\n",
       "   rank_test_score  \n",
       "0                6  \n",
       "1                5  \n",
       "2                1  \n",
       "3                4  \n",
       "4                7  \n",
       "5                8  \n",
       "6                3  \n",
       "7                2  "
      ]
     },
     "execution_count": 40,
     "metadata": {},
     "output_type": "execute_result"
    }
   ],
   "source": [
    "cv_results_df = pd.DataFrame(model.cv_results_)\n",
    "cv_results_df"
   ]
  },
  {
   "cell_type": "code",
   "execution_count": 41,
   "metadata": {},
   "outputs": [],
   "source": [
    "#file = open(cnf_matrix_pkl, 'rb')\n",
    "#cnf_matrix = pickle.load(file)\n",
    "#file.close()"
   ]
  },
  {
   "cell_type": "code",
   "execution_count": 42,
   "metadata": {},
   "outputs": [],
   "source": [
    "#print(cnf_matrix)"
   ]
  },
  {
   "cell_type": "code",
   "execution_count": 43,
   "metadata": {},
   "outputs": [],
   "source": [
    "file = open(cls_report_pkl, 'rb')\n",
    "cls_report = pickle.load(file)\n",
    "file.close()"
   ]
  },
  {
   "cell_type": "code",
   "execution_count": 44,
   "metadata": {
    "scrolled": false
   },
   "outputs": [
    {
     "name": "stdout",
     "output_type": "stream",
     "text": [
      "               precision    recall  f1-score   support\n",
      "\n",
      "      Country       0.63      0.14      0.23      2810\n",
      "   Electronic       0.78      0.11      0.19      1430\n",
      "         Folk       0.79      0.12      0.21       407\n",
      "      Hip-Hop       0.84      0.73      0.78      4829\n",
      "        Indie       0.68      0.06      0.10       647\n",
      "         Jazz       0.52      0.24      0.33      1513\n",
      "        Metal       0.85      0.28      0.42      4515\n",
      "Not Available       0.44      0.15      0.23      4411\n",
      "        Other       0.27      0.05      0.08      1009\n",
      "          Pop       0.59      0.25      0.35      7976\n",
      "          R&B       0.58      0.11      0.18       703\n",
      "         Rock       0.51      0.94      0.66     20995\n",
      "\n",
      "     accuracy                           0.55     51245\n",
      "    macro avg       0.62      0.27      0.31     51245\n",
      " weighted avg       0.59      0.55      0.49     51245\n",
      "\n"
     ]
    }
   ],
   "source": [
    "print(cls_report)"
   ]
  },
  {
   "cell_type": "code",
   "execution_count": 49,
   "metadata": {},
   "outputs": [
    {
     "data": {
      "text/plain": [
       "'               precision    recall  f1-score   support\\n\\n      Country       0.63      0.14      0.23      2810\\n   Electronic       0.78      0.11      0.19      1430\\n         Folk       0.79      0.12      0.21       407\\n      Hip-Hop       0.84      0.73      0.78      4829\\n        Indie       0.68      0.06      0.10       647\\n         Jazz       0.52      0.24      0.33      1513\\n        Metal       0.85      0.28      0.42      4515\\nNot Available       0.44      0.15      0.23      4411\\n        Other       0.27      0.05      0.08      1009\\n          Pop       0.59      0.25      0.35      7976\\n          R&B       0.58      0.11      0.18       703\\n         Rock       0.51      0.94      0.66     20995\\n\\n     accuracy                           0.55     51245\\n    macro avg       0.62      0.27      0.31     51245\\n weighted avg       0.59      0.55      0.49     51245\\n'"
      ]
     },
     "execution_count": 49,
     "metadata": {},
     "output_type": "execute_result"
    }
   ],
   "source": [
    "cls_report"
   ]
  },
  {
   "cell_type": "code",
   "execution_count": 50,
   "metadata": {},
   "outputs": [
    {
     "data": {
      "text/plain": [
       "str"
      ]
     },
     "execution_count": 50,
     "metadata": {},
     "output_type": "execute_result"
    }
   ],
   "source": [
    "type(cls_report)\n",
    "#cls_report_lines = cls_report.split('\\n')\n",
    "#cls_report_lines\n",
    "#cls_report_words = cls_report_lines[2].split(' ')\n",
    "#cls_report_words"
   ]
  },
  {
   "cell_type": "code",
   "execution_count": 46,
   "metadata": {},
   "outputs": [
    {
     "data": {
      "text/plain": [
       "array([[  400,     1,     4,     2,     0,    32,     4,    53,     6,\n",
       "           40,     1,  2267],\n",
       "       [    3,   158,     0,    47,     1,     3,    10,    20,     3,\n",
       "           36,     0,  1149],\n",
       "       [    4,     0,    50,     2,     0,     1,     4,    12,     0,\n",
       "           21,     0,   313],\n",
       "       [    3,     2,     0,  3513,     0,     5,     5,    53,     7,\n",
       "          158,     2,  1081],\n",
       "       [    0,     1,     0,     4,    36,     4,     2,     6,     1,\n",
       "           13,     0,   580],\n",
       "       [   22,     2,     2,    16,     0,   366,     2,    59,    64,\n",
       "           81,    11,   888],\n",
       "       [    1,     4,     0,    57,     0,     3,  1279,    37,     1,\n",
       "           58,     0,  3075],\n",
       "       [   60,     7,     3,   153,     4,    37,    38,   676,    14,\n",
       "          405,     2,  3012],\n",
       "       [    7,     5,     0,    78,     0,    83,     5,    75,    48,\n",
       "          116,     2,   590],\n",
       "       [   40,    13,     3,   154,     2,    70,    41,   266,    15,\n",
       "         1967,    17,  5388],\n",
       "       [    1,     1,     0,    20,     0,    27,     2,     4,     4,\n",
       "           39,    74,   531],\n",
       "       [   97,     9,     1,   127,    10,    75,   119,   262,    17,\n",
       "          420,    18, 19840]], dtype=int64)"
      ]
     },
     "execution_count": 46,
     "metadata": {},
     "output_type": "execute_result"
    }
   ],
   "source": [
    "file = open(cnf_df_pkl, 'rb')\n",
    "cnf_matrix_df = pickle.load(file)\n",
    "file.close()\n",
    "\n",
    "cnf_matrix_df"
   ]
  },
  {
   "cell_type": "code",
   "execution_count": 47,
   "metadata": {},
   "outputs": [
    {
     "data": {
      "text/plain": [
       "['Country',\n",
       " 'Electronic',\n",
       " 'Folk',\n",
       " 'Hip-Hop',\n",
       " 'Indie',\n",
       " 'Jazz',\n",
       " 'Metal',\n",
       " 'Not Available',\n",
       " 'Other',\n",
       " 'Pop',\n",
       " 'R&B',\n",
       " 'Rock']"
      ]
     },
     "execution_count": 47,
     "metadata": {},
     "output_type": "execute_result"
    }
   ],
   "source": [
    "genre_list = ['Country','Electronic','Folk','Hip-Hop','Indie','Jazz','Metal','Not Available','Other','Pop','R&B','Rock']\n",
    "genre_list"
   ]
  },
  {
   "cell_type": "code",
   "execution_count": 48,
   "metadata": {},
   "outputs": [
    {
     "data": {
      "application/vnd.plotly.v1+json": {
       "config": {
        "plotlyServerURL": "https://plot.ly"
       },
       "data": [
        {
         "type": "heatmap",
         "x": [
          "Country",
          "Electronic",
          "Folk",
          "Hip-Hop",
          "Indie",
          "Jazz",
          "Metal",
          "Not Available",
          "Other",
          "Pop",
          "R&B",
          "Rock"
         ],
         "y": [
          "Country",
          "Electronic",
          "Folk",
          "Hip-Hop",
          "Indie",
          "Jazz",
          "Metal",
          "Not Available",
          "Other",
          "Pop",
          "R&B",
          "Rock"
         ],
         "z": [
          [
           400,
           1,
           4,
           2,
           0,
           32,
           4,
           53,
           6,
           40,
           1,
           2267
          ],
          [
           3,
           158,
           0,
           47,
           1,
           3,
           10,
           20,
           3,
           36,
           0,
           1149
          ],
          [
           4,
           0,
           50,
           2,
           0,
           1,
           4,
           12,
           0,
           21,
           0,
           313
          ],
          [
           3,
           2,
           0,
           3513,
           0,
           5,
           5,
           53,
           7,
           158,
           2,
           1081
          ],
          [
           0,
           1,
           0,
           4,
           36,
           4,
           2,
           6,
           1,
           13,
           0,
           580
          ],
          [
           22,
           2,
           2,
           16,
           0,
           366,
           2,
           59,
           64,
           81,
           11,
           888
          ],
          [
           1,
           4,
           0,
           57,
           0,
           3,
           1279,
           37,
           1,
           58,
           0,
           3075
          ],
          [
           60,
           7,
           3,
           153,
           4,
           37,
           38,
           676,
           14,
           405,
           2,
           3012
          ],
          [
           7,
           5,
           0,
           78,
           0,
           83,
           5,
           75,
           48,
           116,
           2,
           590
          ],
          [
           40,
           13,
           3,
           154,
           2,
           70,
           41,
           266,
           15,
           1967,
           17,
           5388
          ],
          [
           1,
           1,
           0,
           20,
           0,
           27,
           2,
           4,
           4,
           39,
           74,
           531
          ],
          [
           97,
           9,
           1,
           127,
           10,
           75,
           119,
           262,
           17,
           420,
           18,
           19840
          ]
         ]
        }
       ],
       "layout": {
        "template": {
         "data": {
          "bar": [
           {
            "error_x": {
             "color": "#2a3f5f"
            },
            "error_y": {
             "color": "#2a3f5f"
            },
            "marker": {
             "line": {
              "color": "#E5ECF6",
              "width": 0.5
             }
            },
            "type": "bar"
           }
          ],
          "barpolar": [
           {
            "marker": {
             "line": {
              "color": "#E5ECF6",
              "width": 0.5
             }
            },
            "type": "barpolar"
           }
          ],
          "carpet": [
           {
            "aaxis": {
             "endlinecolor": "#2a3f5f",
             "gridcolor": "white",
             "linecolor": "white",
             "minorgridcolor": "white",
             "startlinecolor": "#2a3f5f"
            },
            "baxis": {
             "endlinecolor": "#2a3f5f",
             "gridcolor": "white",
             "linecolor": "white",
             "minorgridcolor": "white",
             "startlinecolor": "#2a3f5f"
            },
            "type": "carpet"
           }
          ],
          "choropleth": [
           {
            "colorbar": {
             "outlinewidth": 0,
             "ticks": ""
            },
            "type": "choropleth"
           }
          ],
          "contour": [
           {
            "colorbar": {
             "outlinewidth": 0,
             "ticks": ""
            },
            "colorscale": [
             [
              0,
              "#0d0887"
             ],
             [
              0.1111111111111111,
              "#46039f"
             ],
             [
              0.2222222222222222,
              "#7201a8"
             ],
             [
              0.3333333333333333,
              "#9c179e"
             ],
             [
              0.4444444444444444,
              "#bd3786"
             ],
             [
              0.5555555555555556,
              "#d8576b"
             ],
             [
              0.6666666666666666,
              "#ed7953"
             ],
             [
              0.7777777777777778,
              "#fb9f3a"
             ],
             [
              0.8888888888888888,
              "#fdca26"
             ],
             [
              1,
              "#f0f921"
             ]
            ],
            "type": "contour"
           }
          ],
          "contourcarpet": [
           {
            "colorbar": {
             "outlinewidth": 0,
             "ticks": ""
            },
            "type": "contourcarpet"
           }
          ],
          "heatmap": [
           {
            "colorbar": {
             "outlinewidth": 0,
             "ticks": ""
            },
            "colorscale": [
             [
              0,
              "#0d0887"
             ],
             [
              0.1111111111111111,
              "#46039f"
             ],
             [
              0.2222222222222222,
              "#7201a8"
             ],
             [
              0.3333333333333333,
              "#9c179e"
             ],
             [
              0.4444444444444444,
              "#bd3786"
             ],
             [
              0.5555555555555556,
              "#d8576b"
             ],
             [
              0.6666666666666666,
              "#ed7953"
             ],
             [
              0.7777777777777778,
              "#fb9f3a"
             ],
             [
              0.8888888888888888,
              "#fdca26"
             ],
             [
              1,
              "#f0f921"
             ]
            ],
            "type": "heatmap"
           }
          ],
          "heatmapgl": [
           {
            "colorbar": {
             "outlinewidth": 0,
             "ticks": ""
            },
            "colorscale": [
             [
              0,
              "#0d0887"
             ],
             [
              0.1111111111111111,
              "#46039f"
             ],
             [
              0.2222222222222222,
              "#7201a8"
             ],
             [
              0.3333333333333333,
              "#9c179e"
             ],
             [
              0.4444444444444444,
              "#bd3786"
             ],
             [
              0.5555555555555556,
              "#d8576b"
             ],
             [
              0.6666666666666666,
              "#ed7953"
             ],
             [
              0.7777777777777778,
              "#fb9f3a"
             ],
             [
              0.8888888888888888,
              "#fdca26"
             ],
             [
              1,
              "#f0f921"
             ]
            ],
            "type": "heatmapgl"
           }
          ],
          "histogram": [
           {
            "marker": {
             "colorbar": {
              "outlinewidth": 0,
              "ticks": ""
             }
            },
            "type": "histogram"
           }
          ],
          "histogram2d": [
           {
            "colorbar": {
             "outlinewidth": 0,
             "ticks": ""
            },
            "colorscale": [
             [
              0,
              "#0d0887"
             ],
             [
              0.1111111111111111,
              "#46039f"
             ],
             [
              0.2222222222222222,
              "#7201a8"
             ],
             [
              0.3333333333333333,
              "#9c179e"
             ],
             [
              0.4444444444444444,
              "#bd3786"
             ],
             [
              0.5555555555555556,
              "#d8576b"
             ],
             [
              0.6666666666666666,
              "#ed7953"
             ],
             [
              0.7777777777777778,
              "#fb9f3a"
             ],
             [
              0.8888888888888888,
              "#fdca26"
             ],
             [
              1,
              "#f0f921"
             ]
            ],
            "type": "histogram2d"
           }
          ],
          "histogram2dcontour": [
           {
            "colorbar": {
             "outlinewidth": 0,
             "ticks": ""
            },
            "colorscale": [
             [
              0,
              "#0d0887"
             ],
             [
              0.1111111111111111,
              "#46039f"
             ],
             [
              0.2222222222222222,
              "#7201a8"
             ],
             [
              0.3333333333333333,
              "#9c179e"
             ],
             [
              0.4444444444444444,
              "#bd3786"
             ],
             [
              0.5555555555555556,
              "#d8576b"
             ],
             [
              0.6666666666666666,
              "#ed7953"
             ],
             [
              0.7777777777777778,
              "#fb9f3a"
             ],
             [
              0.8888888888888888,
              "#fdca26"
             ],
             [
              1,
              "#f0f921"
             ]
            ],
            "type": "histogram2dcontour"
           }
          ],
          "mesh3d": [
           {
            "colorbar": {
             "outlinewidth": 0,
             "ticks": ""
            },
            "type": "mesh3d"
           }
          ],
          "parcoords": [
           {
            "line": {
             "colorbar": {
              "outlinewidth": 0,
              "ticks": ""
             }
            },
            "type": "parcoords"
           }
          ],
          "pie": [
           {
            "automargin": true,
            "type": "pie"
           }
          ],
          "scatter": [
           {
            "marker": {
             "colorbar": {
              "outlinewidth": 0,
              "ticks": ""
             }
            },
            "type": "scatter"
           }
          ],
          "scatter3d": [
           {
            "line": {
             "colorbar": {
              "outlinewidth": 0,
              "ticks": ""
             }
            },
            "marker": {
             "colorbar": {
              "outlinewidth": 0,
              "ticks": ""
             }
            },
            "type": "scatter3d"
           }
          ],
          "scattercarpet": [
           {
            "marker": {
             "colorbar": {
              "outlinewidth": 0,
              "ticks": ""
             }
            },
            "type": "scattercarpet"
           }
          ],
          "scattergeo": [
           {
            "marker": {
             "colorbar": {
              "outlinewidth": 0,
              "ticks": ""
             }
            },
            "type": "scattergeo"
           }
          ],
          "scattergl": [
           {
            "marker": {
             "colorbar": {
              "outlinewidth": 0,
              "ticks": ""
             }
            },
            "type": "scattergl"
           }
          ],
          "scattermapbox": [
           {
            "marker": {
             "colorbar": {
              "outlinewidth": 0,
              "ticks": ""
             }
            },
            "type": "scattermapbox"
           }
          ],
          "scatterpolar": [
           {
            "marker": {
             "colorbar": {
              "outlinewidth": 0,
              "ticks": ""
             }
            },
            "type": "scatterpolar"
           }
          ],
          "scatterpolargl": [
           {
            "marker": {
             "colorbar": {
              "outlinewidth": 0,
              "ticks": ""
             }
            },
            "type": "scatterpolargl"
           }
          ],
          "scatterternary": [
           {
            "marker": {
             "colorbar": {
              "outlinewidth": 0,
              "ticks": ""
             }
            },
            "type": "scatterternary"
           }
          ],
          "surface": [
           {
            "colorbar": {
             "outlinewidth": 0,
             "ticks": ""
            },
            "colorscale": [
             [
              0,
              "#0d0887"
             ],
             [
              0.1111111111111111,
              "#46039f"
             ],
             [
              0.2222222222222222,
              "#7201a8"
             ],
             [
              0.3333333333333333,
              "#9c179e"
             ],
             [
              0.4444444444444444,
              "#bd3786"
             ],
             [
              0.5555555555555556,
              "#d8576b"
             ],
             [
              0.6666666666666666,
              "#ed7953"
             ],
             [
              0.7777777777777778,
              "#fb9f3a"
             ],
             [
              0.8888888888888888,
              "#fdca26"
             ],
             [
              1,
              "#f0f921"
             ]
            ],
            "type": "surface"
           }
          ],
          "table": [
           {
            "cells": {
             "fill": {
              "color": "#EBF0F8"
             },
             "line": {
              "color": "white"
             }
            },
            "header": {
             "fill": {
              "color": "#C8D4E3"
             },
             "line": {
              "color": "white"
             }
            },
            "type": "table"
           }
          ]
         },
         "layout": {
          "annotationdefaults": {
           "arrowcolor": "#2a3f5f",
           "arrowhead": 0,
           "arrowwidth": 1
          },
          "coloraxis": {
           "colorbar": {
            "outlinewidth": 0,
            "ticks": ""
           }
          },
          "colorscale": {
           "diverging": [
            [
             0,
             "#8e0152"
            ],
            [
             0.1,
             "#c51b7d"
            ],
            [
             0.2,
             "#de77ae"
            ],
            [
             0.3,
             "#f1b6da"
            ],
            [
             0.4,
             "#fde0ef"
            ],
            [
             0.5,
             "#f7f7f7"
            ],
            [
             0.6,
             "#e6f5d0"
            ],
            [
             0.7,
             "#b8e186"
            ],
            [
             0.8,
             "#7fbc41"
            ],
            [
             0.9,
             "#4d9221"
            ],
            [
             1,
             "#276419"
            ]
           ],
           "sequential": [
            [
             0,
             "#0d0887"
            ],
            [
             0.1111111111111111,
             "#46039f"
            ],
            [
             0.2222222222222222,
             "#7201a8"
            ],
            [
             0.3333333333333333,
             "#9c179e"
            ],
            [
             0.4444444444444444,
             "#bd3786"
            ],
            [
             0.5555555555555556,
             "#d8576b"
            ],
            [
             0.6666666666666666,
             "#ed7953"
            ],
            [
             0.7777777777777778,
             "#fb9f3a"
            ],
            [
             0.8888888888888888,
             "#fdca26"
            ],
            [
             1,
             "#f0f921"
            ]
           ],
           "sequentialminus": [
            [
             0,
             "#0d0887"
            ],
            [
             0.1111111111111111,
             "#46039f"
            ],
            [
             0.2222222222222222,
             "#7201a8"
            ],
            [
             0.3333333333333333,
             "#9c179e"
            ],
            [
             0.4444444444444444,
             "#bd3786"
            ],
            [
             0.5555555555555556,
             "#d8576b"
            ],
            [
             0.6666666666666666,
             "#ed7953"
            ],
            [
             0.7777777777777778,
             "#fb9f3a"
            ],
            [
             0.8888888888888888,
             "#fdca26"
            ],
            [
             1,
             "#f0f921"
            ]
           ]
          },
          "colorway": [
           "#636efa",
           "#EF553B",
           "#00cc96",
           "#ab63fa",
           "#FFA15A",
           "#19d3f3",
           "#FF6692",
           "#B6E880",
           "#FF97FF",
           "#FECB52"
          ],
          "font": {
           "color": "#2a3f5f"
          },
          "geo": {
           "bgcolor": "white",
           "lakecolor": "white",
           "landcolor": "#E5ECF6",
           "showlakes": true,
           "showland": true,
           "subunitcolor": "white"
          },
          "hoverlabel": {
           "align": "left"
          },
          "hovermode": "closest",
          "mapbox": {
           "style": "light"
          },
          "paper_bgcolor": "white",
          "plot_bgcolor": "#E5ECF6",
          "polar": {
           "angularaxis": {
            "gridcolor": "white",
            "linecolor": "white",
            "ticks": ""
           },
           "bgcolor": "#E5ECF6",
           "radialaxis": {
            "gridcolor": "white",
            "linecolor": "white",
            "ticks": ""
           }
          },
          "scene": {
           "xaxis": {
            "backgroundcolor": "#E5ECF6",
            "gridcolor": "white",
            "gridwidth": 2,
            "linecolor": "white",
            "showbackground": true,
            "ticks": "",
            "zerolinecolor": "white"
           },
           "yaxis": {
            "backgroundcolor": "#E5ECF6",
            "gridcolor": "white",
            "gridwidth": 2,
            "linecolor": "white",
            "showbackground": true,
            "ticks": "",
            "zerolinecolor": "white"
           },
           "zaxis": {
            "backgroundcolor": "#E5ECF6",
            "gridcolor": "white",
            "gridwidth": 2,
            "linecolor": "white",
            "showbackground": true,
            "ticks": "",
            "zerolinecolor": "white"
           }
          },
          "shapedefaults": {
           "line": {
            "color": "#2a3f5f"
           }
          },
          "ternary": {
           "aaxis": {
            "gridcolor": "white",
            "linecolor": "white",
            "ticks": ""
           },
           "baxis": {
            "gridcolor": "white",
            "linecolor": "white",
            "ticks": ""
           },
           "bgcolor": "#E5ECF6",
           "caxis": {
            "gridcolor": "white",
            "linecolor": "white",
            "ticks": ""
           }
          },
          "title": {
           "x": 0.05
          },
          "xaxis": {
           "automargin": true,
           "gridcolor": "white",
           "linecolor": "white",
           "ticks": "",
           "title": {
            "standoff": 15
           },
           "zerolinecolor": "white",
           "zerolinewidth": 2
          },
          "yaxis": {
           "automargin": true,
           "gridcolor": "white",
           "linecolor": "white",
           "ticks": "",
           "title": {
            "standoff": 15
           },
           "zerolinecolor": "white",
           "zerolinewidth": 2
          }
         }
        },
        "title": {
         "text": "Confusion Matrix for Classfication Model"
        },
        "xaxis": {
         "title": {
          "text": "Predicted Label"
         }
        },
        "yaxis": {
         "title": {
          "text": "True Label"
         }
        }
       }
      },
      "text/html": [
       "<div>\n",
       "        \n",
       "        \n",
       "            <div id=\"3cd43c5d-dd61-429b-96fd-d73fdcb3c3e2\" class=\"plotly-graph-div\" style=\"height:525px; width:100%;\"></div>\n",
       "            <script type=\"text/javascript\">\n",
       "                require([\"plotly\"], function(Plotly) {\n",
       "                    window.PLOTLYENV=window.PLOTLYENV || {};\n",
       "                    \n",
       "                if (document.getElementById(\"3cd43c5d-dd61-429b-96fd-d73fdcb3c3e2\")) {\n",
       "                    Plotly.newPlot(\n",
       "                        '3cd43c5d-dd61-429b-96fd-d73fdcb3c3e2',\n",
       "                        [{\"type\": \"heatmap\", \"x\": [\"Country\", \"Electronic\", \"Folk\", \"Hip-Hop\", \"Indie\", \"Jazz\", \"Metal\", \"Not Available\", \"Other\", \"Pop\", \"R&B\", \"Rock\"], \"y\": [\"Country\", \"Electronic\", \"Folk\", \"Hip-Hop\", \"Indie\", \"Jazz\", \"Metal\", \"Not Available\", \"Other\", \"Pop\", \"R&B\", \"Rock\"], \"z\": [[400, 1, 4, 2, 0, 32, 4, 53, 6, 40, 1, 2267], [3, 158, 0, 47, 1, 3, 10, 20, 3, 36, 0, 1149], [4, 0, 50, 2, 0, 1, 4, 12, 0, 21, 0, 313], [3, 2, 0, 3513, 0, 5, 5, 53, 7, 158, 2, 1081], [0, 1, 0, 4, 36, 4, 2, 6, 1, 13, 0, 580], [22, 2, 2, 16, 0, 366, 2, 59, 64, 81, 11, 888], [1, 4, 0, 57, 0, 3, 1279, 37, 1, 58, 0, 3075], [60, 7, 3, 153, 4, 37, 38, 676, 14, 405, 2, 3012], [7, 5, 0, 78, 0, 83, 5, 75, 48, 116, 2, 590], [40, 13, 3, 154, 2, 70, 41, 266, 15, 1967, 17, 5388], [1, 1, 0, 20, 0, 27, 2, 4, 4, 39, 74, 531], [97, 9, 1, 127, 10, 75, 119, 262, 17, 420, 18, 19840]]}],\n",
       "                        {\"template\": {\"data\": {\"bar\": [{\"error_x\": {\"color\": \"#2a3f5f\"}, \"error_y\": {\"color\": \"#2a3f5f\"}, \"marker\": {\"line\": {\"color\": \"#E5ECF6\", \"width\": 0.5}}, \"type\": \"bar\"}], \"barpolar\": [{\"marker\": {\"line\": {\"color\": \"#E5ECF6\", \"width\": 0.5}}, \"type\": \"barpolar\"}], \"carpet\": [{\"aaxis\": {\"endlinecolor\": \"#2a3f5f\", \"gridcolor\": \"white\", \"linecolor\": \"white\", \"minorgridcolor\": \"white\", \"startlinecolor\": \"#2a3f5f\"}, \"baxis\": {\"endlinecolor\": \"#2a3f5f\", \"gridcolor\": \"white\", \"linecolor\": \"white\", \"minorgridcolor\": \"white\", \"startlinecolor\": \"#2a3f5f\"}, \"type\": \"carpet\"}], \"choropleth\": [{\"colorbar\": {\"outlinewidth\": 0, \"ticks\": \"\"}, \"type\": \"choropleth\"}], \"contour\": [{\"colorbar\": {\"outlinewidth\": 0, \"ticks\": \"\"}, \"colorscale\": [[0.0, \"#0d0887\"], [0.1111111111111111, \"#46039f\"], [0.2222222222222222, \"#7201a8\"], [0.3333333333333333, \"#9c179e\"], [0.4444444444444444, \"#bd3786\"], [0.5555555555555556, \"#d8576b\"], [0.6666666666666666, \"#ed7953\"], [0.7777777777777778, \"#fb9f3a\"], [0.8888888888888888, \"#fdca26\"], [1.0, \"#f0f921\"]], \"type\": \"contour\"}], \"contourcarpet\": [{\"colorbar\": {\"outlinewidth\": 0, \"ticks\": \"\"}, \"type\": \"contourcarpet\"}], \"heatmap\": [{\"colorbar\": {\"outlinewidth\": 0, \"ticks\": \"\"}, \"colorscale\": [[0.0, \"#0d0887\"], [0.1111111111111111, \"#46039f\"], [0.2222222222222222, \"#7201a8\"], [0.3333333333333333, \"#9c179e\"], [0.4444444444444444, \"#bd3786\"], [0.5555555555555556, \"#d8576b\"], [0.6666666666666666, \"#ed7953\"], [0.7777777777777778, \"#fb9f3a\"], [0.8888888888888888, \"#fdca26\"], [1.0, \"#f0f921\"]], \"type\": \"heatmap\"}], \"heatmapgl\": [{\"colorbar\": {\"outlinewidth\": 0, \"ticks\": \"\"}, \"colorscale\": [[0.0, \"#0d0887\"], [0.1111111111111111, \"#46039f\"], [0.2222222222222222, \"#7201a8\"], [0.3333333333333333, \"#9c179e\"], [0.4444444444444444, \"#bd3786\"], [0.5555555555555556, \"#d8576b\"], [0.6666666666666666, \"#ed7953\"], [0.7777777777777778, \"#fb9f3a\"], [0.8888888888888888, \"#fdca26\"], [1.0, \"#f0f921\"]], \"type\": \"heatmapgl\"}], \"histogram\": [{\"marker\": {\"colorbar\": {\"outlinewidth\": 0, \"ticks\": \"\"}}, \"type\": \"histogram\"}], \"histogram2d\": [{\"colorbar\": {\"outlinewidth\": 0, \"ticks\": \"\"}, \"colorscale\": [[0.0, \"#0d0887\"], [0.1111111111111111, \"#46039f\"], [0.2222222222222222, \"#7201a8\"], [0.3333333333333333, \"#9c179e\"], [0.4444444444444444, \"#bd3786\"], [0.5555555555555556, \"#d8576b\"], [0.6666666666666666, \"#ed7953\"], [0.7777777777777778, \"#fb9f3a\"], [0.8888888888888888, \"#fdca26\"], [1.0, \"#f0f921\"]], \"type\": \"histogram2d\"}], \"histogram2dcontour\": [{\"colorbar\": {\"outlinewidth\": 0, \"ticks\": \"\"}, \"colorscale\": [[0.0, \"#0d0887\"], [0.1111111111111111, \"#46039f\"], [0.2222222222222222, \"#7201a8\"], [0.3333333333333333, \"#9c179e\"], [0.4444444444444444, \"#bd3786\"], [0.5555555555555556, \"#d8576b\"], [0.6666666666666666, \"#ed7953\"], [0.7777777777777778, \"#fb9f3a\"], [0.8888888888888888, \"#fdca26\"], [1.0, \"#f0f921\"]], \"type\": \"histogram2dcontour\"}], \"mesh3d\": [{\"colorbar\": {\"outlinewidth\": 0, \"ticks\": \"\"}, \"type\": \"mesh3d\"}], \"parcoords\": [{\"line\": {\"colorbar\": {\"outlinewidth\": 0, \"ticks\": \"\"}}, \"type\": \"parcoords\"}], \"pie\": [{\"automargin\": true, \"type\": \"pie\"}], \"scatter\": [{\"marker\": {\"colorbar\": {\"outlinewidth\": 0, \"ticks\": \"\"}}, \"type\": \"scatter\"}], \"scatter3d\": [{\"line\": {\"colorbar\": {\"outlinewidth\": 0, \"ticks\": \"\"}}, \"marker\": {\"colorbar\": {\"outlinewidth\": 0, \"ticks\": \"\"}}, \"type\": \"scatter3d\"}], \"scattercarpet\": [{\"marker\": {\"colorbar\": {\"outlinewidth\": 0, \"ticks\": \"\"}}, \"type\": \"scattercarpet\"}], \"scattergeo\": [{\"marker\": {\"colorbar\": {\"outlinewidth\": 0, \"ticks\": \"\"}}, \"type\": \"scattergeo\"}], \"scattergl\": [{\"marker\": {\"colorbar\": {\"outlinewidth\": 0, \"ticks\": \"\"}}, \"type\": \"scattergl\"}], \"scattermapbox\": [{\"marker\": {\"colorbar\": {\"outlinewidth\": 0, \"ticks\": \"\"}}, \"type\": \"scattermapbox\"}], \"scatterpolar\": [{\"marker\": {\"colorbar\": {\"outlinewidth\": 0, \"ticks\": \"\"}}, \"type\": \"scatterpolar\"}], \"scatterpolargl\": [{\"marker\": {\"colorbar\": {\"outlinewidth\": 0, \"ticks\": \"\"}}, \"type\": \"scatterpolargl\"}], \"scatterternary\": [{\"marker\": {\"colorbar\": {\"outlinewidth\": 0, \"ticks\": \"\"}}, \"type\": \"scatterternary\"}], \"surface\": [{\"colorbar\": {\"outlinewidth\": 0, \"ticks\": \"\"}, \"colorscale\": [[0.0, \"#0d0887\"], [0.1111111111111111, \"#46039f\"], [0.2222222222222222, \"#7201a8\"], [0.3333333333333333, \"#9c179e\"], [0.4444444444444444, \"#bd3786\"], [0.5555555555555556, \"#d8576b\"], [0.6666666666666666, \"#ed7953\"], [0.7777777777777778, \"#fb9f3a\"], [0.8888888888888888, \"#fdca26\"], [1.0, \"#f0f921\"]], \"type\": \"surface\"}], \"table\": [{\"cells\": {\"fill\": {\"color\": \"#EBF0F8\"}, \"line\": {\"color\": \"white\"}}, \"header\": {\"fill\": {\"color\": \"#C8D4E3\"}, \"line\": {\"color\": \"white\"}}, \"type\": \"table\"}]}, \"layout\": {\"annotationdefaults\": {\"arrowcolor\": \"#2a3f5f\", \"arrowhead\": 0, \"arrowwidth\": 1}, \"coloraxis\": {\"colorbar\": {\"outlinewidth\": 0, \"ticks\": \"\"}}, \"colorscale\": {\"diverging\": [[0, \"#8e0152\"], [0.1, \"#c51b7d\"], [0.2, \"#de77ae\"], [0.3, \"#f1b6da\"], [0.4, \"#fde0ef\"], [0.5, \"#f7f7f7\"], [0.6, \"#e6f5d0\"], [0.7, \"#b8e186\"], [0.8, \"#7fbc41\"], [0.9, \"#4d9221\"], [1, \"#276419\"]], \"sequential\": [[0.0, \"#0d0887\"], [0.1111111111111111, \"#46039f\"], [0.2222222222222222, \"#7201a8\"], [0.3333333333333333, \"#9c179e\"], [0.4444444444444444, \"#bd3786\"], [0.5555555555555556, \"#d8576b\"], [0.6666666666666666, \"#ed7953\"], [0.7777777777777778, \"#fb9f3a\"], [0.8888888888888888, \"#fdca26\"], [1.0, \"#f0f921\"]], \"sequentialminus\": [[0.0, \"#0d0887\"], [0.1111111111111111, \"#46039f\"], [0.2222222222222222, \"#7201a8\"], [0.3333333333333333, \"#9c179e\"], [0.4444444444444444, \"#bd3786\"], [0.5555555555555556, \"#d8576b\"], [0.6666666666666666, \"#ed7953\"], [0.7777777777777778, \"#fb9f3a\"], [0.8888888888888888, \"#fdca26\"], [1.0, \"#f0f921\"]]}, \"colorway\": [\"#636efa\", \"#EF553B\", \"#00cc96\", \"#ab63fa\", \"#FFA15A\", \"#19d3f3\", \"#FF6692\", \"#B6E880\", \"#FF97FF\", \"#FECB52\"], \"font\": {\"color\": \"#2a3f5f\"}, \"geo\": {\"bgcolor\": \"white\", \"lakecolor\": \"white\", \"landcolor\": \"#E5ECF6\", \"showlakes\": true, \"showland\": true, \"subunitcolor\": \"white\"}, \"hoverlabel\": {\"align\": \"left\"}, \"hovermode\": \"closest\", \"mapbox\": {\"style\": \"light\"}, \"paper_bgcolor\": \"white\", \"plot_bgcolor\": \"#E5ECF6\", \"polar\": {\"angularaxis\": {\"gridcolor\": \"white\", \"linecolor\": \"white\", \"ticks\": \"\"}, \"bgcolor\": \"#E5ECF6\", \"radialaxis\": {\"gridcolor\": \"white\", \"linecolor\": \"white\", \"ticks\": \"\"}}, \"scene\": {\"xaxis\": {\"backgroundcolor\": \"#E5ECF6\", \"gridcolor\": \"white\", \"gridwidth\": 2, \"linecolor\": \"white\", \"showbackground\": true, \"ticks\": \"\", \"zerolinecolor\": \"white\"}, \"yaxis\": {\"backgroundcolor\": \"#E5ECF6\", \"gridcolor\": \"white\", \"gridwidth\": 2, \"linecolor\": \"white\", \"showbackground\": true, \"ticks\": \"\", \"zerolinecolor\": \"white\"}, \"zaxis\": {\"backgroundcolor\": \"#E5ECF6\", \"gridcolor\": \"white\", \"gridwidth\": 2, \"linecolor\": \"white\", \"showbackground\": true, \"ticks\": \"\", \"zerolinecolor\": \"white\"}}, \"shapedefaults\": {\"line\": {\"color\": \"#2a3f5f\"}}, \"ternary\": {\"aaxis\": {\"gridcolor\": \"white\", \"linecolor\": \"white\", \"ticks\": \"\"}, \"baxis\": {\"gridcolor\": \"white\", \"linecolor\": \"white\", \"ticks\": \"\"}, \"bgcolor\": \"#E5ECF6\", \"caxis\": {\"gridcolor\": \"white\", \"linecolor\": \"white\", \"ticks\": \"\"}}, \"title\": {\"x\": 0.05}, \"xaxis\": {\"automargin\": true, \"gridcolor\": \"white\", \"linecolor\": \"white\", \"ticks\": \"\", \"title\": {\"standoff\": 15}, \"zerolinecolor\": \"white\", \"zerolinewidth\": 2}, \"yaxis\": {\"automargin\": true, \"gridcolor\": \"white\", \"linecolor\": \"white\", \"ticks\": \"\", \"title\": {\"standoff\": 15}, \"zerolinecolor\": \"white\", \"zerolinewidth\": 2}}}, \"title\": {\"text\": \"Confusion Matrix for Classfication Model\"}, \"xaxis\": {\"title\": {\"text\": \"Predicted Label\"}}, \"yaxis\": {\"title\": {\"text\": \"True Label\"}}},\n",
       "                        {\"responsive\": true}\n",
       "                    ).then(function(){\n",
       "                            \n",
       "var gd = document.getElementById('3cd43c5d-dd61-429b-96fd-d73fdcb3c3e2');\n",
       "var x = new MutationObserver(function (mutations, observer) {{\n",
       "        var display = window.getComputedStyle(gd).display;\n",
       "        if (!display || display === 'none') {{\n",
       "            console.log([gd, 'removed!']);\n",
       "            Plotly.purge(gd);\n",
       "            observer.disconnect();\n",
       "        }}\n",
       "}});\n",
       "\n",
       "// Listen for the removal of the full notebook cells\n",
       "var notebookContainer = gd.closest('#notebook-container');\n",
       "if (notebookContainer) {{\n",
       "    x.observe(notebookContainer, {childList: true});\n",
       "}}\n",
       "\n",
       "// Listen for the clearing of the current output cell\n",
       "var outputEl = gd.closest('.output');\n",
       "if (outputEl) {{\n",
       "    x.observe(outputEl, {childList: true});\n",
       "}}\n",
       "\n",
       "                        })\n",
       "                };\n",
       "                });\n",
       "            </script>\n",
       "        </div>"
      ]
     },
     "metadata": {},
     "output_type": "display_data"
    }
   ],
   "source": [
    "fig = go.Figure(data=go.Heatmap(\n",
    "    z = cnf_matrix_df,\n",
    "    x = genre_list,\n",
    "    y = genre_list))\n",
    "fig.update_layout(title_text = 'Confusion Matrix for Classfication Model',\n",
    "                  xaxis = dict(title = 'Predicted Label'),\n",
    "                  yaxis = dict(title = 'True Label')\n",
    "                 )\n",
    "fig.show()"
   ]
  }
 ],
 "metadata": {
  "kernelspec": {
   "display_name": "Python 3",
   "language": "python",
   "name": "python3"
  },
  "language_info": {
   "codemirror_mode": {
    "name": "ipython",
    "version": 3
   },
   "file_extension": ".py",
   "mimetype": "text/x-python",
   "name": "python",
   "nbconvert_exporter": "python",
   "pygments_lexer": "ipython3",
   "version": "3.7.3"
  }
 },
 "nbformat": 4,
 "nbformat_minor": 2
}
