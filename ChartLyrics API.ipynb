{
 "cells": [
  {
   "cell_type": "code",
   "execution_count": 1,
   "metadata": {
    "scrolled": true
   },
   "outputs": [],
   "source": [
    "import pandas as pd\n",
    "import numpy as np\n",
    "import requests\n",
    "import xml.etree.ElementTree as ET\n",
    "import urllib\n",
    "from urllib.request import urlopen"
   ]
  },
  {
   "cell_type": "markdown",
   "metadata": {},
   "source": [
    "### Put it all together"
   ]
  },
  {
   "cell_type": "code",
   "execution_count": 2,
   "metadata": {},
   "outputs": [
    {
     "data": {
      "text/plain": [
       "'http://api.chartlyrics.com/apiv1.asmx/SearchLyric?artist=Depeche+Mode&song=Enjoy+the+Silence'"
      ]
     },
     "execution_count": 2,
     "metadata": {},
     "output_type": "execute_result"
    }
   ],
   "source": [
    "base_url = 'http://api.chartlyrics.com/apiv1.asmx/SearchLyric?'\n",
    "qs_args = {\n",
    "    'artist': 'Depeche Mode',\n",
    "    'song': 'Enjoy the Silence'\n",
    "}\n",
    "search_url = base_url + urllib.parse.urlencode(qs_args)\n",
    "search_url"
   ]
  },
  {
   "cell_type": "code",
   "execution_count": 3,
   "metadata": {},
   "outputs": [],
   "source": [
    "#with urllib.request.urlopen(search_url) as response:\n",
    "#    content = response.read().decode('ascii')\n",
    "#    data = ET.fromstring(content)\n",
    "#    \n",
    "#    for child in data.iter('*'):\n",
    "#        print(child.tag)\n",
    "#        print(child.text)"
   ]
  },
  {
   "cell_type": "code",
   "execution_count": 4,
   "metadata": {},
   "outputs": [],
   "source": [
    "response = urllib.request.urlopen(search_url)\n",
    "content = response.read().decode('ascii')\n",
    "data = ET.fromstring(content)"
   ]
  },
  {
   "cell_type": "code",
   "execution_count": 8,
   "metadata": {},
   "outputs": [
    {
     "data": {
      "text/plain": [
       "26"
      ]
     },
     "execution_count": 8,
     "metadata": {},
     "output_type": "execute_result"
    }
   ],
   "source": [
    "len(data)"
   ]
  },
  {
   "cell_type": "code",
   "execution_count": 10,
   "metadata": {},
   "outputs": [
    {
     "name": "stdout",
     "output_type": "stream",
     "text": [
      "{http://api.chartlyrics.com/}ArrayOfSearchLyricResult \n",
      "  \n",
      "{http://api.chartlyrics.com/}SearchLyricResult \n",
      "    \n",
      "{http://api.chartlyrics.com/}TrackId 0\n",
      "{http://api.chartlyrics.com/}LyricChecksum 7fc32c2e01f22aa5c93a79f631cc5a82\n",
      "{http://api.chartlyrics.com/}LyricId 223\n",
      "{http://api.chartlyrics.com/}SongUrl http://www.chartlyrics.com/KOc4hQvKIUO35c_2Vl3UwA/Enjoy+the+Silence.aspx\n",
      "{http://api.chartlyrics.com/}ArtistUrl http://www.chartlyrics.com/KOc4hQvKIUO35c_2Vl3UwA.aspx\n",
      "{http://api.chartlyrics.com/}Artist Depeche Mode\n",
      "{http://api.chartlyrics.com/}Song Enjoy the Silence\n",
      "{http://api.chartlyrics.com/}SongRank 9\n",
      "{http://api.chartlyrics.com/}SearchLyricResult \n",
      "    \n",
      "{http://api.chartlyrics.com/}TrackId 0\n",
      "{http://api.chartlyrics.com/}LyricChecksum dd5626e4b0bfb94e782410ffa70056fc\n",
      "{http://api.chartlyrics.com/}LyricId 8711\n",
      "{http://api.chartlyrics.com/}SongUrl http://www.chartlyrics.com/KOc4hQvKIUO35c_2Vl3UwA/Leave+in+Silence.aspx\n",
      "{http://api.chartlyrics.com/}ArtistUrl http://www.chartlyrics.com/KOc4hQvKIUO35c_2Vl3UwA.aspx\n",
      "{http://api.chartlyrics.com/}Artist Depeche Mode\n",
      "{http://api.chartlyrics.com/}Song Leave in Silence\n",
      "{http://api.chartlyrics.com/}SongRank 9\n",
      "{http://api.chartlyrics.com/}SearchLyricResult \n",
      "    \n",
      "{http://api.chartlyrics.com/}TrackId 0\n",
      "{http://api.chartlyrics.com/}LyricChecksum 02f1018a2ac28a056c8bd9a019082f77\n",
      "{http://api.chartlyrics.com/}LyricId 24705\n",
      "{http://api.chartlyrics.com/}SongUrl http://www.chartlyrics.com/KOc4hQvKIUO35c_2Vl3UwA/Enjoy+the+Silence+(Hands+and+Feet+mix).aspx\n",
      "{http://api.chartlyrics.com/}ArtistUrl http://www.chartlyrics.com/KOc4hQvKIUO35c_2Vl3UwA.aspx\n",
      "{http://api.chartlyrics.com/}Artist Depeche Mode\n",
      "{http://api.chartlyrics.com/}Song Enjoy the Silence (Hands and Feet mix)\n",
      "{http://api.chartlyrics.com/}SongRank 9\n",
      "{http://api.chartlyrics.com/}SearchLyricResult \n",
      "    \n",
      "{http://api.chartlyrics.com/}TrackId 0\n",
      "{http://api.chartlyrics.com/}LyricChecksum f8baaf8e41e7bec425d9333fc01ba161\n",
      "{http://api.chartlyrics.com/}LyricId 44537\n",
      "{http://api.chartlyrics.com/}SongUrl http://www.chartlyrics.com/KOc4hQvKIUO35c_2Vl3UwA/Enjoy+the+Silence+(Bass+Line).aspx\n",
      "{http://api.chartlyrics.com/}ArtistUrl http://www.chartlyrics.com/KOc4hQvKIUO35c_2Vl3UwA.aspx\n",
      "{http://api.chartlyrics.com/}Artist Depeche Mode\n",
      "{http://api.chartlyrics.com/}Song Enjoy the Silence (Bass Line)\n",
      "{http://api.chartlyrics.com/}SongRank 9\n",
      "{http://api.chartlyrics.com/}SearchLyricResult \n",
      "    \n",
      "{http://api.chartlyrics.com/}TrackId 0\n",
      "{http://api.chartlyrics.com/}LyricChecksum d1ca2f6aaa3e75744479c919eff8d08e\n",
      "{http://api.chartlyrics.com/}LyricId 90230\n",
      "{http://api.chartlyrics.com/}SongUrl http://www.chartlyrics.com/KOc4hQvKIUO35c_2Vl3UwA/Enjoy+the+Silence+(reinterpreted).aspx\n",
      "{http://api.chartlyrics.com/}ArtistUrl http://www.chartlyrics.com/KOc4hQvKIUO35c_2Vl3UwA.aspx\n",
      "{http://api.chartlyrics.com/}Artist Depeche Mode\n",
      "{http://api.chartlyrics.com/}Song Enjoy the Silence (reinterpreted)\n",
      "{http://api.chartlyrics.com/}SongRank 9\n",
      "{http://api.chartlyrics.com/}SearchLyricResult \n",
      "    \n",
      "{http://api.chartlyrics.com/}TrackId 0\n",
      "{http://api.chartlyrics.com/}LyricChecksum 7020a185b6443cc11e1e3a3306d7c0b7\n",
      "{http://api.chartlyrics.com/}LyricId 138725\n",
      "{http://api.chartlyrics.com/}SongUrl http://www.chartlyrics.com/KOc4hQvKIUO35c_2Vl3UwA/Leave+in+Silence+(longer).aspx\n",
      "{http://api.chartlyrics.com/}ArtistUrl http://www.chartlyrics.com/KOc4hQvKIUO35c_2Vl3UwA.aspx\n",
      "{http://api.chartlyrics.com/}Artist Depeche Mode\n",
      "{http://api.chartlyrics.com/}Song Leave in Silence (longer)\n",
      "{http://api.chartlyrics.com/}SongRank 7\n",
      "{http://api.chartlyrics.com/}SearchLyricResult \n",
      "    \n",
      "{http://api.chartlyrics.com/}TrackId 0\n",
      "{http://api.chartlyrics.com/}LyricChecksum ae7488c18d688355a545e6feafc4c00e\n",
      "{http://api.chartlyrics.com/}LyricId 44538\n",
      "{http://api.chartlyrics.com/}SongUrl http://www.chartlyrics.com/KOc4hQvKIUO35c_2Vl3UwA/Enjoy+the+Silence+(Harmonium).aspx\n",
      "{http://api.chartlyrics.com/}ArtistUrl http://www.chartlyrics.com/KOc4hQvKIUO35c_2Vl3UwA.aspx\n",
      "{http://api.chartlyrics.com/}Artist Depeche Mode\n",
      "{http://api.chartlyrics.com/}Song Enjoy the Silence (Harmonium)\n",
      "{http://api.chartlyrics.com/}SongRank 7\n",
      "{http://api.chartlyrics.com/}SearchLyricResult \n",
      "    \n",
      "{http://api.chartlyrics.com/}TrackId 0\n",
      "{http://api.chartlyrics.com/}LyricChecksum 6704b785c9baaf73f7ceedf0c71772e4\n",
      "{http://api.chartlyrics.com/}LyricId 128115\n",
      "{http://api.chartlyrics.com/}SongUrl http://www.chartlyrics.com/KOc4hQvKIUO35c_2Vl3UwA/Enjoy+the+Silence+(7%22+version).aspx\n",
      "{http://api.chartlyrics.com/}ArtistUrl http://www.chartlyrics.com/KOc4hQvKIUO35c_2Vl3UwA.aspx\n",
      "{http://api.chartlyrics.com/}Artist Depeche Mode\n",
      "{http://api.chartlyrics.com/}Song Enjoy the Silence (7\" version)\n",
      "{http://api.chartlyrics.com/}SongRank 7\n",
      "{http://api.chartlyrics.com/}SearchLyricResult \n",
      "    \n",
      "{http://api.chartlyrics.com/}TrackId 0\n",
      "{http://api.chartlyrics.com/}LyricChecksum d9d5a971de677df2b2e3696313d51b83\n",
      "{http://api.chartlyrics.com/}LyricId 63653\n",
      "{http://api.chartlyrics.com/}SongUrl http://www.chartlyrics.com/KOc4hQvKIUO35c_2Vl3UwA/Enjoy+the+Silence+(Ecstatic+dub).aspx\n",
      "{http://api.chartlyrics.com/}ArtistUrl http://www.chartlyrics.com/KOc4hQvKIUO35c_2Vl3UwA.aspx\n",
      "{http://api.chartlyrics.com/}Artist Depeche Mode\n",
      "{http://api.chartlyrics.com/}Song Enjoy the Silence (Ecstatic dub)\n",
      "{http://api.chartlyrics.com/}SongRank 7\n",
      "{http://api.chartlyrics.com/}SearchLyricResult \n",
      "    \n",
      "{http://api.chartlyrics.com/}TrackId 0\n",
      "{http://api.chartlyrics.com/}LyricChecksum 03bebac40299aa57f44c0996916958cc\n",
      "{http://api.chartlyrics.com/}LyricId 199659\n",
      "{http://api.chartlyrics.com/}SongUrl http://www.chartlyrics.com/KOc4hQvKIUO35c_2Vl3UwA/Enjoy+the+Silence+(Indefinite+mix).aspx\n",
      "{http://api.chartlyrics.com/}ArtistUrl http://www.chartlyrics.com/KOc4hQvKIUO35c_2Vl3UwA.aspx\n",
      "{http://api.chartlyrics.com/}Artist Depeche Mode\n",
      "{http://api.chartlyrics.com/}Song Enjoy the Silence (Indefinite mix)\n",
      "{http://api.chartlyrics.com/}SongRank 6\n",
      "{http://api.chartlyrics.com/}SearchLyricResult \n",
      "    \n",
      "{http://api.chartlyrics.com/}TrackId 0\n",
      "{http://api.chartlyrics.com/}LyricChecksum cd13601601c69c82d4c7f9b5f0937b59\n",
      "{http://api.chartlyrics.com/}LyricId 95193\n",
      "{http://api.chartlyrics.com/}SongUrl http://www.chartlyrics.com/KOc4hQvKIUO35c_2Vl3UwA/Enjoy+the+Silence+(Ewan+Pearson+extended+remix).aspx\n",
      "{http://api.chartlyrics.com/}ArtistUrl http://www.chartlyrics.com/KOc4hQvKIUO35c_2Vl3UwA.aspx\n",
      "{http://api.chartlyrics.com/}Artist Depeche Mode\n",
      "{http://api.chartlyrics.com/}Song Enjoy the Silence (Ewan Pearson extended remix)\n",
      "{http://api.chartlyrics.com/}SongRank 6\n",
      "{http://api.chartlyrics.com/}SearchLyricResult \n",
      "    \n",
      "{http://api.chartlyrics.com/}TrackId 0\n",
      "{http://api.chartlyrics.com/}LyricChecksum be6d701e129033d70ec73786bf791137\n",
      "{http://api.chartlyrics.com/}LyricId 90229\n",
      "{http://api.chartlyrics.com/}SongUrl http://www.chartlyrics.com/KOc4hQvKIUO35c_2Vl3UwA/Enjoy+the+Silence+(reinterpreted+by+Mike+Shinoda).aspx\n",
      "{http://api.chartlyrics.com/}ArtistUrl http://www.chartlyrics.com/KOc4hQvKIUO35c_2Vl3UwA.aspx\n",
      "{http://api.chartlyrics.com/}Artist Depeche Mode\n",
      "{http://api.chartlyrics.com/}Song Enjoy the Silence (reinterpreted by Mike Shinoda)\n",
      "{http://api.chartlyrics.com/}SongRank 6\n",
      "{http://api.chartlyrics.com/}SearchLyricResult \n",
      "    \n",
      "{http://api.chartlyrics.com/}TrackId 0\n",
      "{http://api.chartlyrics.com/}LyricChecksum c7fbc13e4ac7d578a9dc0501ef77ad28\n",
      "{http://api.chartlyrics.com/}LyricId 69122\n",
      "{http://api.chartlyrics.com/}SongUrl http://www.chartlyrics.com/KOc4hQvKIUO35c_2Vl3UwA/Enjoy+the+Silence+(live).aspx\n",
      "{http://api.chartlyrics.com/}ArtistUrl http://www.chartlyrics.com/KOc4hQvKIUO35c_2Vl3UwA.aspx\n",
      "{http://api.chartlyrics.com/}Artist Depeche Mode\n",
      "{http://api.chartlyrics.com/}Song Enjoy the Silence (live)\n",
      "{http://api.chartlyrics.com/}SongRank 5\n",
      "{http://api.chartlyrics.com/}SearchLyricResult \n",
      "    \n",
      "{http://api.chartlyrics.com/}TrackId 0\n",
      "{http://api.chartlyrics.com/}LyricChecksum f2460057cd10e7ebdb440a316861e321\n",
      "{http://api.chartlyrics.com/}LyricId 120141\n",
      "{http://api.chartlyrics.com/}SongUrl http://www.chartlyrics.com/KOc4hQvKIUO35c_2Vl3UwA/Enjoy+the+Silence+(Razormaid+mix).aspx\n",
      "{http://api.chartlyrics.com/}ArtistUrl http://www.chartlyrics.com/KOc4hQvKIUO35c_2Vl3UwA.aspx\n",
      "{http://api.chartlyrics.com/}Artist Depeche Mode\n",
      "{http://api.chartlyrics.com/}Song Enjoy the Silence (Razormaid mix)\n",
      "{http://api.chartlyrics.com/}SongRank 5\n",
      "{http://api.chartlyrics.com/}SearchLyricResult \n",
      "    \n",
      "{http://api.chartlyrics.com/}TrackId 0\n",
      "{http://api.chartlyrics.com/}LyricChecksum 5da09860df94e1dde764612c3e10fa2b\n",
      "{http://api.chartlyrics.com/}LyricId 51455\n",
      "{http://api.chartlyrics.com/}SongUrl http://www.chartlyrics.com/KOc4hQvKIUO35c_2Vl3UwA/Enjoy+the+Silence+(Ricki+Tik+Tik+mix).aspx\n",
      "{http://api.chartlyrics.com/}ArtistUrl http://www.chartlyrics.com/KOc4hQvKIUO35c_2Vl3UwA.aspx\n",
      "{http://api.chartlyrics.com/}Artist Depeche Mode\n",
      "{http://api.chartlyrics.com/}Song Enjoy the Silence (Ricki Tik Tik mix)\n",
      "{http://api.chartlyrics.com/}SongRank 5\n",
      "{http://api.chartlyrics.com/}SearchLyricResult \n",
      "    \n",
      "{http://api.chartlyrics.com/}TrackChecksum 329af844ea719404e55ee3ff9accb03e\n",
      "{http://api.chartlyrics.com/}TrackId 10374479\n",
      "{http://api.chartlyrics.com/}LyricId 0\n",
      "{http://api.chartlyrics.com/}SongUrl http://www.chartlyrics.com/app/add.aspx?a=317&t=10374479\n",
      "{http://api.chartlyrics.com/}ArtistUrl http://www.chartlyrics.com/KOc4hQvKIUO35c_2Vl3UwA.aspx\n",
      "{http://api.chartlyrics.com/}Artist Depeche Mode\n",
      "{http://api.chartlyrics.com/}Song Enjoy the Silence (acoustic)\n",
      "{http://api.chartlyrics.com/}SongRank 4\n",
      "{http://api.chartlyrics.com/}SearchLyricResult \n",
      "    \n",
      "{http://api.chartlyrics.com/}TrackId 0\n",
      "{http://api.chartlyrics.com/}LyricChecksum cd7eeecb9857c753f06fd1c20d1b7ad4\n",
      "{http://api.chartlyrics.com/}LyricId 146214\n",
      "{http://api.chartlyrics.com/}SongUrl http://www.chartlyrics.com/KOc4hQvKIUO35c_2Vl3UwA/Enjoy+the+Silence+(single+mix).aspx\n",
      "{http://api.chartlyrics.com/}ArtistUrl http://www.chartlyrics.com/KOc4hQvKIUO35c_2Vl3UwA.aspx\n",
      "{http://api.chartlyrics.com/}Artist Depeche Mode\n",
      "{http://api.chartlyrics.com/}Song Enjoy the Silence (single mix)\n",
      "{http://api.chartlyrics.com/}SongRank 4\n",
      "{http://api.chartlyrics.com/}SearchLyricResult \n",
      "    \n",
      "{http://api.chartlyrics.com/}TrackId 0\n",
      "{http://api.chartlyrics.com/}LyricChecksum c6dd2d772058ad2155dce7b35fd485bd\n",
      "{http://api.chartlyrics.com/}LyricId 69123\n",
      "{http://api.chartlyrics.com/}SongUrl http://www.chartlyrics.com/KOc4hQvKIUO35c_2Vl3UwA/Enjoy+the+Silence+(The+Quad%3a+Final+mix).aspx\n",
      "{http://api.chartlyrics.com/}ArtistUrl http://www.chartlyrics.com/KOc4hQvKIUO35c_2Vl3UwA.aspx\n",
      "{http://api.chartlyrics.com/}Artist Depeche Mode\n",
      "{http://api.chartlyrics.com/}Song Enjoy the Silence (The Quad: Final mix)\n",
      "{http://api.chartlyrics.com/}SongRank 4\n",
      "{http://api.chartlyrics.com/}SearchLyricResult \n",
      "    \n",
      "{http://api.chartlyrics.com/}TrackId 0\n",
      "{http://api.chartlyrics.com/}LyricChecksum 7bcb15459f1a18621f78e62957a4c1bf\n",
      "{http://api.chartlyrics.com/}LyricId 54496\n",
      "{http://api.chartlyrics.com/}SongUrl http://www.chartlyrics.com/KOc4hQvKIUO35c_2Vl3UwA/Enjoy+the+Silence+(Timo+Maas+extended+remix).aspx\n",
      "{http://api.chartlyrics.com/}ArtistUrl http://www.chartlyrics.com/KOc4hQvKIUO35c_2Vl3UwA.aspx\n",
      "{http://api.chartlyrics.com/}Artist Depeche Mode\n",
      "{http://api.chartlyrics.com/}Song Enjoy the Silence (Timo Maas extended remix)\n",
      "{http://api.chartlyrics.com/}SongRank 4\n",
      "{http://api.chartlyrics.com/}SearchLyricResult \n",
      "    \n",
      "{http://api.chartlyrics.com/}TrackId 0\n",
      "{http://api.chartlyrics.com/}LyricChecksum bbc824dbfec8b252ffc06159b3c2e985\n",
      "{http://api.chartlyrics.com/}LyricId 81524\n",
      "{http://api.chartlyrics.com/}SongUrl http://www.chartlyrics.com/KOc4hQvKIUO35c_2Vl3UwA/Enjoy+the+Silence+%2704.aspx\n",
      "{http://api.chartlyrics.com/}ArtistUrl http://www.chartlyrics.com/KOc4hQvKIUO35c_2Vl3UwA.aspx\n",
      "{http://api.chartlyrics.com/}Artist Depeche Mode\n",
      "{http://api.chartlyrics.com/}Song Enjoy the Silence '04\n",
      "{http://api.chartlyrics.com/}SongRank 3\n",
      "{http://api.chartlyrics.com/}SearchLyricResult \n",
      "    \n",
      "{http://api.chartlyrics.com/}TrackChecksum 7346bc283207c2fb77b28a49658cfffe\n",
      "{http://api.chartlyrics.com/}TrackId 1754667\n",
      "{http://api.chartlyrics.com/}LyricId 0\n",
      "{http://api.chartlyrics.com/}SongUrl http://www.chartlyrics.com/app/add.aspx?a=317&t=1754667\n",
      "{http://api.chartlyrics.com/}ArtistUrl http://www.chartlyrics.com/KOc4hQvKIUO35c_2Vl3UwA.aspx\n",
      "{http://api.chartlyrics.com/}Artist Depeche Mode\n",
      "{http://api.chartlyrics.com/}Song Enjoy the Silence (Bass Line mix)\n",
      "{http://api.chartlyrics.com/}SongRank 3\n",
      "{http://api.chartlyrics.com/}SearchLyricResult \n",
      "    \n",
      "{http://api.chartlyrics.com/}TrackId 0\n",
      "{http://api.chartlyrics.com/}LyricChecksum 89a886a11830f2f0023542bc13a32892\n",
      "{http://api.chartlyrics.com/}LyricId 11163\n",
      "{http://api.chartlyrics.com/}SongUrl http://www.chartlyrics.com/KOc4hQvKIUO35c_2Vl3UwA/Enjoy+the+Silence+(Timo+Maas+extended+mix).aspx\n",
      "{http://api.chartlyrics.com/}ArtistUrl http://www.chartlyrics.com/KOc4hQvKIUO35c_2Vl3UwA.aspx\n",
      "{http://api.chartlyrics.com/}Artist Depeche Mode\n",
      "{http://api.chartlyrics.com/}Song Enjoy the Silence (Timo Maas extended mix)\n",
      "{http://api.chartlyrics.com/}SongRank 3\n",
      "{http://api.chartlyrics.com/}SearchLyricResult \n",
      "    \n",
      "{http://api.chartlyrics.com/}TrackId 0\n",
      "{http://api.chartlyrics.com/}LyricChecksum 9dd310773104eceb20cf5f0af4477387\n",
      "{http://api.chartlyrics.com/}LyricId 120142\n",
      "{http://api.chartlyrics.com/}SongUrl http://www.chartlyrics.com/KOc4hQvKIUO35c_2Vl3UwA/Enjoy+the+Silence+(Richard+X+extended+mix).aspx\n",
      "{http://api.chartlyrics.com/}ArtistUrl http://www.chartlyrics.com/KOc4hQvKIUO35c_2Vl3UwA.aspx\n",
      "{http://api.chartlyrics.com/}Artist Depeche Mode\n",
      "{http://api.chartlyrics.com/}Song Enjoy the Silence (Richard X extended mix)\n",
      "{http://api.chartlyrics.com/}SongRank 3\n",
      "{http://api.chartlyrics.com/}SearchLyricResult \n",
      "    \n",
      "{http://api.chartlyrics.com/}TrackChecksum df2c5c39a17235de4018f37dd70caad8\n",
      "{http://api.chartlyrics.com/}TrackId 6471291\n",
      "{http://api.chartlyrics.com/}LyricId 0\n",
      "{http://api.chartlyrics.com/}SongUrl http://www.chartlyrics.com/app/add.aspx?a=317&t=6471291\n",
      "{http://api.chartlyrics.com/}ArtistUrl http://www.chartlyrics.com/KOc4hQvKIUO35c_2Vl3UwA.aspx\n",
      "{http://api.chartlyrics.com/}Artist Depeche Mode\n",
      "{http://api.chartlyrics.com/}Song Enjoy the Silence (2004)\n",
      "{http://api.chartlyrics.com/}SongRank 2\n",
      "{http://api.chartlyrics.com/}SearchLyricResult \n",
      "    \n",
      "{http://api.chartlyrics.com/}TrackId 0\n",
      "{http://api.chartlyrics.com/}LyricChecksum 5530777f0cc26957691c8920dd3e3b7f\n",
      "{http://api.chartlyrics.com/}LyricId 85760\n",
      "{http://api.chartlyrics.com/}SongUrl http://www.chartlyrics.com/KOc4hQvKIUO35c_2Vl3UwA/Enjoy+the+Silence+(16B+remix).aspx\n",
      "{http://api.chartlyrics.com/}ArtistUrl http://www.chartlyrics.com/KOc4hQvKIUO35c_2Vl3UwA.aspx\n",
      "{http://api.chartlyrics.com/}Artist Depeche Mode\n",
      "{http://api.chartlyrics.com/}Song Enjoy the Silence (16B remix)\n",
      "{http://api.chartlyrics.com/}SongRank 2\n",
      "{http://api.chartlyrics.com/}SearchLyricResult None\n"
     ]
    }
   ],
   "source": [
    "for child in data.iter('*'):\n",
    "    print(child.tag, child.text)"
   ]
  },
  {
   "cell_type": "code",
   "execution_count": 11,
   "metadata": {},
   "outputs": [
    {
     "name": "stdout",
     "output_type": "stream",
     "text": [
      "{http://api.chartlyrics.com/}SearchLyricResult \n",
      "    \n",
      "{http://api.chartlyrics.com/}SearchLyricResult \n",
      "    \n",
      "{http://api.chartlyrics.com/}SearchLyricResult \n",
      "    \n",
      "{http://api.chartlyrics.com/}SearchLyricResult \n",
      "    \n",
      "{http://api.chartlyrics.com/}SearchLyricResult \n",
      "    \n",
      "{http://api.chartlyrics.com/}SearchLyricResult \n",
      "    \n",
      "{http://api.chartlyrics.com/}SearchLyricResult \n",
      "    \n",
      "{http://api.chartlyrics.com/}SearchLyricResult \n",
      "    \n",
      "{http://api.chartlyrics.com/}SearchLyricResult \n",
      "    \n",
      "{http://api.chartlyrics.com/}SearchLyricResult \n",
      "    \n",
      "{http://api.chartlyrics.com/}SearchLyricResult \n",
      "    \n",
      "{http://api.chartlyrics.com/}SearchLyricResult \n",
      "    \n",
      "{http://api.chartlyrics.com/}SearchLyricResult \n",
      "    \n",
      "{http://api.chartlyrics.com/}SearchLyricResult \n",
      "    \n",
      "{http://api.chartlyrics.com/}SearchLyricResult \n",
      "    \n",
      "{http://api.chartlyrics.com/}SearchLyricResult \n",
      "    \n",
      "{http://api.chartlyrics.com/}SearchLyricResult \n",
      "    \n",
      "{http://api.chartlyrics.com/}SearchLyricResult \n",
      "    \n",
      "{http://api.chartlyrics.com/}SearchLyricResult \n",
      "    \n",
      "{http://api.chartlyrics.com/}SearchLyricResult \n",
      "    \n",
      "{http://api.chartlyrics.com/}SearchLyricResult \n",
      "    \n",
      "{http://api.chartlyrics.com/}SearchLyricResult \n",
      "    \n",
      "{http://api.chartlyrics.com/}SearchLyricResult \n",
      "    \n",
      "{http://api.chartlyrics.com/}SearchLyricResult \n",
      "    \n",
      "{http://api.chartlyrics.com/}SearchLyricResult \n",
      "    \n",
      "{http://api.chartlyrics.com/}SearchLyricResult None\n"
     ]
    }
   ],
   "source": [
    "for child in data.iter('{http://api.chartlyrics.com/}SearchLyricResult'):\n",
    "    print(child.tag, child.text)"
   ]
  },
  {
   "cell_type": "code",
   "execution_count": 18,
   "metadata": {},
   "outputs": [
    {
     "data": {
      "text/plain": [
       "8"
      ]
     },
     "execution_count": 18,
     "metadata": {},
     "output_type": "execute_result"
    }
   ],
   "source": [
    "#data[0][1].text\n",
    "#data[0]['LyricChecksum'].text\n",
    "len(data[0])"
   ]
  },
  {
   "cell_type": "code",
   "execution_count": 20,
   "metadata": {},
   "outputs": [
    {
     "name": "stdout",
     "output_type": "stream",
     "text": [
      "{http://api.chartlyrics.com/}TrackId 0\n",
      "{http://api.chartlyrics.com/}LyricChecksum 7fc32c2e01f22aa5c93a79f631cc5a82\n",
      "{http://api.chartlyrics.com/}LyricId 223\n",
      "{http://api.chartlyrics.com/}SongUrl http://www.chartlyrics.com/KOc4hQvKIUO35c_2Vl3UwA/Enjoy+the+Silence.aspx\n",
      "{http://api.chartlyrics.com/}ArtistUrl http://www.chartlyrics.com/KOc4hQvKIUO35c_2Vl3UwA.aspx\n",
      "{http://api.chartlyrics.com/}Artist Depeche Mode\n",
      "{http://api.chartlyrics.com/}Song Enjoy the Silence\n",
      "{http://api.chartlyrics.com/}SongRank 9\n",
      "Depeche Mode Enjoy the Silence 223\n"
     ]
    }
   ],
   "source": [
    "for elem in range(0, len(data[0])):\n",
    "    print(data[0][elem].tag, data[0][elem].text)\n",
    "    if data[0][elem].tag == '{http://api.chartlyrics.com/}Artist':\n",
    "        artist_name = data[0][elem].text\n",
    "    elif data[0][elem].tag == '{http://api.chartlyrics.com/}Song':\n",
    "        song_name = data[0][elem].text\n",
    "    elif data[0][elem].tag == '{http://api.chartlyrics.com/}LyricId':\n",
    "        lyric_id = data[0][elem].text\n",
    "    else:\n",
    "        None\n",
    "        \n",
    "print (artist_name, song_name, lyric_id)"
   ]
  },
  {
   "cell_type": "code",
   "execution_count": 26,
   "metadata": {},
   "outputs": [],
   "source": [
    "song_dict = {}"
   ]
  },
  {
   "cell_type": "code",
   "execution_count": 22,
   "metadata": {},
   "outputs": [
    {
     "data": {
      "text/plain": [
       "{'1': 'Python', '2': 'Java'}"
      ]
     },
     "execution_count": 22,
     "metadata": {},
     "output_type": "execute_result"
    }
   ],
   "source": [
    "dict_append = {\"1\" : \"Python\", \"2\" : \"Java\"}\n",
    "dict_append"
   ]
  },
  {
   "cell_type": "code",
   "execution_count": 23,
   "metadata": {},
   "outputs": [
    {
     "data": {
      "text/plain": [
       "{'1': 'Python', '2': 'Java', '4': 'JavaScript'}"
      ]
     },
     "execution_count": 23,
     "metadata": {},
     "output_type": "execute_result"
    }
   ],
   "source": [
    "dict_append.update({\"4\" : \"JavaScript\"})\n",
    "dict_append"
   ]
  },
  {
   "cell_type": "code",
   "execution_count": 27,
   "metadata": {
    "scrolled": true
   },
   "outputs": [
    {
     "data": {
      "text/plain": [
       "{0: {'lyric_id': '223', 'artist': 'Depeche Mode', 'song': 'Enjoy the Silence'},\n",
       " 1: {'lyric_id': '8711', 'artist': 'Depeche Mode', 'song': 'Leave in Silence'},\n",
       " 2: {'lyric_id': '24705',\n",
       "  'artist': 'Depeche Mode',\n",
       "  'song': 'Enjoy the Silence (Hands and Feet mix)'},\n",
       " 3: {'lyric_id': '44537',\n",
       "  'artist': 'Depeche Mode',\n",
       "  'song': 'Enjoy the Silence (Bass Line)'},\n",
       " 4: {'lyric_id': '90230',\n",
       "  'artist': 'Depeche Mode',\n",
       "  'song': 'Enjoy the Silence (reinterpreted)'},\n",
       " 5: {'lyric_id': '138725',\n",
       "  'artist': 'Depeche Mode',\n",
       "  'song': 'Leave in Silence (longer)'},\n",
       " 6: {'lyric_id': '44538',\n",
       "  'artist': 'Depeche Mode',\n",
       "  'song': 'Enjoy the Silence (Harmonium)'},\n",
       " 7: {'lyric_id': '128115',\n",
       "  'artist': 'Depeche Mode',\n",
       "  'song': 'Enjoy the Silence (7\" version)'},\n",
       " 8: {'lyric_id': '63653',\n",
       "  'artist': 'Depeche Mode',\n",
       "  'song': 'Enjoy the Silence (Ecstatic dub)'},\n",
       " 9: {'lyric_id': '199659',\n",
       "  'artist': 'Depeche Mode',\n",
       "  'song': 'Enjoy the Silence (Indefinite mix)'},\n",
       " 10: {'lyric_id': '95193',\n",
       "  'artist': 'Depeche Mode',\n",
       "  'song': 'Enjoy the Silence (Ewan Pearson extended remix)'},\n",
       " 11: {'lyric_id': '90229',\n",
       "  'artist': 'Depeche Mode',\n",
       "  'song': 'Enjoy the Silence (reinterpreted by Mike Shinoda)'},\n",
       " 12: {'lyric_id': '69122',\n",
       "  'artist': 'Depeche Mode',\n",
       "  'song': 'Enjoy the Silence (live)'},\n",
       " 13: {'lyric_id': '120141',\n",
       "  'artist': 'Depeche Mode',\n",
       "  'song': 'Enjoy the Silence (Razormaid mix)'},\n",
       " 14: {'lyric_id': '51455',\n",
       "  'artist': 'Depeche Mode',\n",
       "  'song': 'Enjoy the Silence (Ricki Tik Tik mix)'},\n",
       " 15: {'lyric_id': '0',\n",
       "  'artist': 'Depeche Mode',\n",
       "  'song': 'Enjoy the Silence (acoustic)'},\n",
       " 16: {'lyric_id': '146214',\n",
       "  'artist': 'Depeche Mode',\n",
       "  'song': 'Enjoy the Silence (single mix)'},\n",
       " 17: {'lyric_id': '69123',\n",
       "  'artist': 'Depeche Mode',\n",
       "  'song': 'Enjoy the Silence (The Quad: Final mix)'},\n",
       " 18: {'lyric_id': '54496',\n",
       "  'artist': 'Depeche Mode',\n",
       "  'song': 'Enjoy the Silence (Timo Maas extended remix)'},\n",
       " 19: {'lyric_id': '81524',\n",
       "  'artist': 'Depeche Mode',\n",
       "  'song': \"Enjoy the Silence '04\"},\n",
       " 20: {'lyric_id': '0',\n",
       "  'artist': 'Depeche Mode',\n",
       "  'song': 'Enjoy the Silence (Bass Line mix)'},\n",
       " 21: {'lyric_id': '11163',\n",
       "  'artist': 'Depeche Mode',\n",
       "  'song': 'Enjoy the Silence (Timo Maas extended mix)'},\n",
       " 22: {'lyric_id': '120142',\n",
       "  'artist': 'Depeche Mode',\n",
       "  'song': 'Enjoy the Silence (Richard X extended mix)'},\n",
       " 23: {'lyric_id': '0',\n",
       "  'artist': 'Depeche Mode',\n",
       "  'song': 'Enjoy the Silence (2004)'},\n",
       " 24: {'lyric_id': '85760',\n",
       "  'artist': 'Depeche Mode',\n",
       "  'song': 'Enjoy the Silence (16B remix)'},\n",
       " 25: {}}"
      ]
     },
     "execution_count": 27,
     "metadata": {},
     "output_type": "execute_result"
    }
   ],
   "source": [
    "for searchresult in range(0, len(data)):\n",
    "    result_dict = {}\n",
    "    for elem in range(0, len(data[searchresult])):\n",
    "        if data[searchresult][elem].tag == '{http://api.chartlyrics.com/}Artist':\n",
    "            result_dict.update({'artist': data[searchresult][elem].text})\n",
    "        elif data[searchresult][elem].tag == '{http://api.chartlyrics.com/}Song':\n",
    "            result_dict.update({'song': data[searchresult][elem].text})\n",
    "        elif data[searchresult][elem].tag == '{http://api.chartlyrics.com/}LyricId':\n",
    "            result_dict.update({'lyric_id': data[searchresult][elem].text})\n",
    "        else:\n",
    "            None\n",
    "    \n",
    "    song_dict.update({searchresult: result_dict})\n",
    "    \n",
    "song_dict"
   ]
  },
  {
   "cell_type": "code",
   "execution_count": 36,
   "metadata": {},
   "outputs": [],
   "source": [
    "# limit results to 10\n",
    "if len(data) > 10:\n",
    "    result_count = 10\n",
    "else:\n",
    "    result_count = len(data)"
   ]
  },
  {
   "cell_type": "code",
   "execution_count": 39,
   "metadata": {},
   "outputs": [
    {
     "data": {
      "text/html": [
       "<div>\n",
       "<style scoped>\n",
       "    .dataframe tbody tr th:only-of-type {\n",
       "        vertical-align: middle;\n",
       "    }\n",
       "\n",
       "    .dataframe tbody tr th {\n",
       "        vertical-align: top;\n",
       "    }\n",
       "\n",
       "    .dataframe thead th {\n",
       "        text-align: right;\n",
       "    }\n",
       "</style>\n",
       "<table border=\"1\" class=\"dataframe\">\n",
       "  <thead>\n",
       "    <tr style=\"text-align: right;\">\n",
       "      <th></th>\n",
       "      <th>lyric_id</th>\n",
       "      <th>lyric_check_sum</th>\n",
       "      <th>artist</th>\n",
       "      <th>song</th>\n",
       "    </tr>\n",
       "  </thead>\n",
       "  <tbody>\n",
       "    <tr>\n",
       "      <th>0</th>\n",
       "      <td>223</td>\n",
       "      <td>7fc32c2e01f22aa5c93a79f631cc5a82</td>\n",
       "      <td>Depeche Mode</td>\n",
       "      <td>Enjoy the Silence</td>\n",
       "    </tr>\n",
       "    <tr>\n",
       "      <th>1</th>\n",
       "      <td>8711</td>\n",
       "      <td>dd5626e4b0bfb94e782410ffa70056fc</td>\n",
       "      <td>Depeche Mode</td>\n",
       "      <td>Leave in Silence</td>\n",
       "    </tr>\n",
       "    <tr>\n",
       "      <th>2</th>\n",
       "      <td>24705</td>\n",
       "      <td>02f1018a2ac28a056c8bd9a019082f77</td>\n",
       "      <td>Depeche Mode</td>\n",
       "      <td>Enjoy the Silence (Hands and Feet mix)</td>\n",
       "    </tr>\n",
       "    <tr>\n",
       "      <th>3</th>\n",
       "      <td>44537</td>\n",
       "      <td>f8baaf8e41e7bec425d9333fc01ba161</td>\n",
       "      <td>Depeche Mode</td>\n",
       "      <td>Enjoy the Silence (Bass Line)</td>\n",
       "    </tr>\n",
       "    <tr>\n",
       "      <th>4</th>\n",
       "      <td>90230</td>\n",
       "      <td>d1ca2f6aaa3e75744479c919eff8d08e</td>\n",
       "      <td>Depeche Mode</td>\n",
       "      <td>Enjoy the Silence (reinterpreted)</td>\n",
       "    </tr>\n",
       "    <tr>\n",
       "      <th>5</th>\n",
       "      <td>138725</td>\n",
       "      <td>7020a185b6443cc11e1e3a3306d7c0b7</td>\n",
       "      <td>Depeche Mode</td>\n",
       "      <td>Leave in Silence (longer)</td>\n",
       "    </tr>\n",
       "    <tr>\n",
       "      <th>6</th>\n",
       "      <td>44538</td>\n",
       "      <td>ae7488c18d688355a545e6feafc4c00e</td>\n",
       "      <td>Depeche Mode</td>\n",
       "      <td>Enjoy the Silence (Harmonium)</td>\n",
       "    </tr>\n",
       "    <tr>\n",
       "      <th>7</th>\n",
       "      <td>128115</td>\n",
       "      <td>6704b785c9baaf73f7ceedf0c71772e4</td>\n",
       "      <td>Depeche Mode</td>\n",
       "      <td>Enjoy the Silence (7\" version)</td>\n",
       "    </tr>\n",
       "    <tr>\n",
       "      <th>8</th>\n",
       "      <td>63653</td>\n",
       "      <td>d9d5a971de677df2b2e3696313d51b83</td>\n",
       "      <td>Depeche Mode</td>\n",
       "      <td>Enjoy the Silence (Ecstatic dub)</td>\n",
       "    </tr>\n",
       "    <tr>\n",
       "      <th>9</th>\n",
       "      <td>199659</td>\n",
       "      <td>03bebac40299aa57f44c0996916958cc</td>\n",
       "      <td>Depeche Mode</td>\n",
       "      <td>Enjoy the Silence (Indefinite mix)</td>\n",
       "    </tr>\n",
       "  </tbody>\n",
       "</table>\n",
       "</div>"
      ],
      "text/plain": [
       "  lyric_id                   lyric_check_sum        artist  \\\n",
       "0      223  7fc32c2e01f22aa5c93a79f631cc5a82  Depeche Mode   \n",
       "1     8711  dd5626e4b0bfb94e782410ffa70056fc  Depeche Mode   \n",
       "2    24705  02f1018a2ac28a056c8bd9a019082f77  Depeche Mode   \n",
       "3    44537  f8baaf8e41e7bec425d9333fc01ba161  Depeche Mode   \n",
       "4    90230  d1ca2f6aaa3e75744479c919eff8d08e  Depeche Mode   \n",
       "5   138725  7020a185b6443cc11e1e3a3306d7c0b7  Depeche Mode   \n",
       "6    44538  ae7488c18d688355a545e6feafc4c00e  Depeche Mode   \n",
       "7   128115  6704b785c9baaf73f7ceedf0c71772e4  Depeche Mode   \n",
       "8    63653  d9d5a971de677df2b2e3696313d51b83  Depeche Mode   \n",
       "9   199659  03bebac40299aa57f44c0996916958cc  Depeche Mode   \n",
       "\n",
       "                                     song  \n",
       "0                       Enjoy the Silence  \n",
       "1                        Leave in Silence  \n",
       "2  Enjoy the Silence (Hands and Feet mix)  \n",
       "3           Enjoy the Silence (Bass Line)  \n",
       "4       Enjoy the Silence (reinterpreted)  \n",
       "5               Leave in Silence (longer)  \n",
       "6           Enjoy the Silence (Harmonium)  \n",
       "7          Enjoy the Silence (7\" version)  \n",
       "8        Enjoy the Silence (Ecstatic dub)  \n",
       "9      Enjoy the Silence (Indefinite mix)  "
      ]
     },
     "execution_count": 39,
     "metadata": {},
     "output_type": "execute_result"
    }
   ],
   "source": [
    "song_df = pd.DataFrame(columns=['lyric_id', 'lyric_check_sum', 'artist', 'song'])\n",
    "\n",
    "for searchresult in range(0, result_count):\n",
    "    result_dict = {}\n",
    "    for elem in range(0, len(data[searchresult])):\n",
    "        if data[searchresult][elem].tag == '{http://api.chartlyrics.com/}Artist':\n",
    "            result_dict.update({'artist': data[searchresult][elem].text})\n",
    "        elif data[searchresult][elem].tag == '{http://api.chartlyrics.com/}Song':\n",
    "            result_dict.update({'song': data[searchresult][elem].text})\n",
    "        elif data[searchresult][elem].tag == '{http://api.chartlyrics.com/}LyricId':\n",
    "            result_dict.update({'lyric_id': data[searchresult][elem].text})\n",
    "        elif data[searchresult][elem].tag == '{http://api.chartlyrics.com/}LyricChecksum':\n",
    "            result_dict.update({'lyric_check_sum': data[searchresult][elem].text})\n",
    "        else:\n",
    "            None\n",
    "    \n",
    "    #print(result_dict)\n",
    "    song_df = song_df.append(result_dict, ignore_index=True)\n",
    "    \n",
    "song_df"
   ]
  },
  {
   "cell_type": "code",
   "execution_count": 40,
   "metadata": {},
   "outputs": [
    {
     "data": {
      "text/html": [
       "<div>\n",
       "<style scoped>\n",
       "    .dataframe tbody tr th:only-of-type {\n",
       "        vertical-align: middle;\n",
       "    }\n",
       "\n",
       "    .dataframe tbody tr th {\n",
       "        vertical-align: top;\n",
       "    }\n",
       "\n",
       "    .dataframe thead th {\n",
       "        text-align: right;\n",
       "    }\n",
       "</style>\n",
       "<table border=\"1\" class=\"dataframe\">\n",
       "  <thead>\n",
       "    <tr style=\"text-align: right;\">\n",
       "      <th></th>\n",
       "      <th>lyric_id</th>\n",
       "      <th>lyric_check_sum</th>\n",
       "      <th>artist</th>\n",
       "      <th>song</th>\n",
       "    </tr>\n",
       "  </thead>\n",
       "  <tbody>\n",
       "    <tr>\n",
       "      <th>0</th>\n",
       "      <td>223</td>\n",
       "      <td>7fc32c2e01f22aa5c93a79f631cc5a82</td>\n",
       "      <td>Depeche Mode</td>\n",
       "      <td>Enjoy the Silence</td>\n",
       "    </tr>\n",
       "    <tr>\n",
       "      <th>1</th>\n",
       "      <td>8711</td>\n",
       "      <td>dd5626e4b0bfb94e782410ffa70056fc</td>\n",
       "      <td>Depeche Mode</td>\n",
       "      <td>Leave in Silence</td>\n",
       "    </tr>\n",
       "    <tr>\n",
       "      <th>2</th>\n",
       "      <td>24705</td>\n",
       "      <td>02f1018a2ac28a056c8bd9a019082f77</td>\n",
       "      <td>Depeche Mode</td>\n",
       "      <td>Enjoy the Silence (Hands and Feet mix)</td>\n",
       "    </tr>\n",
       "    <tr>\n",
       "      <th>3</th>\n",
       "      <td>44537</td>\n",
       "      <td>f8baaf8e41e7bec425d9333fc01ba161</td>\n",
       "      <td>Depeche Mode</td>\n",
       "      <td>Enjoy the Silence (Bass Line)</td>\n",
       "    </tr>\n",
       "    <tr>\n",
       "      <th>4</th>\n",
       "      <td>90230</td>\n",
       "      <td>d1ca2f6aaa3e75744479c919eff8d08e</td>\n",
       "      <td>Depeche Mode</td>\n",
       "      <td>Enjoy the Silence (reinterpreted)</td>\n",
       "    </tr>\n",
       "    <tr>\n",
       "      <th>5</th>\n",
       "      <td>138725</td>\n",
       "      <td>7020a185b6443cc11e1e3a3306d7c0b7</td>\n",
       "      <td>Depeche Mode</td>\n",
       "      <td>Leave in Silence (longer)</td>\n",
       "    </tr>\n",
       "    <tr>\n",
       "      <th>6</th>\n",
       "      <td>44538</td>\n",
       "      <td>ae7488c18d688355a545e6feafc4c00e</td>\n",
       "      <td>Depeche Mode</td>\n",
       "      <td>Enjoy the Silence (Harmonium)</td>\n",
       "    </tr>\n",
       "    <tr>\n",
       "      <th>7</th>\n",
       "      <td>128115</td>\n",
       "      <td>6704b785c9baaf73f7ceedf0c71772e4</td>\n",
       "      <td>Depeche Mode</td>\n",
       "      <td>Enjoy the Silence (7\" version)</td>\n",
       "    </tr>\n",
       "    <tr>\n",
       "      <th>8</th>\n",
       "      <td>63653</td>\n",
       "      <td>d9d5a971de677df2b2e3696313d51b83</td>\n",
       "      <td>Depeche Mode</td>\n",
       "      <td>Enjoy the Silence (Ecstatic dub)</td>\n",
       "    </tr>\n",
       "    <tr>\n",
       "      <th>9</th>\n",
       "      <td>199659</td>\n",
       "      <td>03bebac40299aa57f44c0996916958cc</td>\n",
       "      <td>Depeche Mode</td>\n",
       "      <td>Enjoy the Silence (Indefinite mix)</td>\n",
       "    </tr>\n",
       "  </tbody>\n",
       "</table>\n",
       "</div>"
      ],
      "text/plain": [
       "  lyric_id                   lyric_check_sum        artist  \\\n",
       "0      223  7fc32c2e01f22aa5c93a79f631cc5a82  Depeche Mode   \n",
       "1     8711  dd5626e4b0bfb94e782410ffa70056fc  Depeche Mode   \n",
       "2    24705  02f1018a2ac28a056c8bd9a019082f77  Depeche Mode   \n",
       "3    44537  f8baaf8e41e7bec425d9333fc01ba161  Depeche Mode   \n",
       "4    90230  d1ca2f6aaa3e75744479c919eff8d08e  Depeche Mode   \n",
       "5   138725  7020a185b6443cc11e1e3a3306d7c0b7  Depeche Mode   \n",
       "6    44538  ae7488c18d688355a545e6feafc4c00e  Depeche Mode   \n",
       "7   128115  6704b785c9baaf73f7ceedf0c71772e4  Depeche Mode   \n",
       "8    63653  d9d5a971de677df2b2e3696313d51b83  Depeche Mode   \n",
       "9   199659  03bebac40299aa57f44c0996916958cc  Depeche Mode   \n",
       "\n",
       "                                     song  \n",
       "0                       Enjoy the Silence  \n",
       "1                        Leave in Silence  \n",
       "2  Enjoy the Silence (Hands and Feet mix)  \n",
       "3           Enjoy the Silence (Bass Line)  \n",
       "4       Enjoy the Silence (reinterpreted)  \n",
       "5               Leave in Silence (longer)  \n",
       "6           Enjoy the Silence (Harmonium)  \n",
       "7          Enjoy the Silence (7\" version)  \n",
       "8        Enjoy the Silence (Ecstatic dub)  \n",
       "9      Enjoy the Silence (Indefinite mix)  "
      ]
     },
     "execution_count": 40,
     "metadata": {},
     "output_type": "execute_result"
    }
   ],
   "source": [
    "song_df = song_df.dropna(axis=0)\n",
    "song_df"
   ]
  },
  {
   "cell_type": "markdown",
   "metadata": {},
   "source": [
    "## Get lyric text"
   ]
  },
  {
   "cell_type": "code",
   "execution_count": 41,
   "metadata": {},
   "outputs": [
    {
     "data": {
      "text/plain": [
       "'223'"
      ]
     },
     "execution_count": 41,
     "metadata": {},
     "output_type": "execute_result"
    }
   ],
   "source": [
    "selected_lyric_id = song_df.loc[0, 'lyric_id']\n",
    "selected_lyric_id"
   ]
  },
  {
   "cell_type": "code",
   "execution_count": 42,
   "metadata": {},
   "outputs": [
    {
     "data": {
      "text/plain": [
       "'7fc32c2e01f22aa5c93a79f631cc5a82'"
      ]
     },
     "execution_count": 42,
     "metadata": {},
     "output_type": "execute_result"
    }
   ],
   "source": [
    "selected_lyric_cs = song_df.loc[0, 'lyric_check_sum']\n",
    "selected_lyric_cs"
   ]
  },
  {
   "cell_type": "code",
   "execution_count": 43,
   "metadata": {},
   "outputs": [
    {
     "data": {
      "text/plain": [
       "'http://api.chartlyrics.com/apiv1.asmx/GetLyric?lyricId=223&lyricCheckSum=7fc32c2e01f22aa5c93a79f631cc5a82'"
      ]
     },
     "execution_count": 43,
     "metadata": {},
     "output_type": "execute_result"
    }
   ],
   "source": [
    "base_lyric_url = 'http://api.chartlyrics.com/apiv1.asmx/GetLyric?'\n",
    "qs_args = {\n",
    "    'lyricId': selected_lyric_id,\n",
    "    'lyricCheckSum': selected_lyric_cs\n",
    "}\n",
    "selected_url = base_lyric_url + urllib.parse.urlencode(qs_args)\n",
    "selected_url"
   ]
  },
  {
   "cell_type": "code",
   "execution_count": 44,
   "metadata": {},
   "outputs": [],
   "source": [
    "selected_response = urllib.request.urlopen(selected_url)\n",
    "selected_content = selected_response.read().decode('ascii')\n",
    "selected = ET.fromstring(selected_content)"
   ]
  },
  {
   "cell_type": "code",
   "execution_count": 49,
   "metadata": {},
   "outputs": [
    {
     "data": {
      "text/plain": [
       "\"Words like violence\\nBreak the silence\\nCome crashing in\\nInto my little world\\nPainful to me\\nPierce right through me\\nCan't you understand\\nOh my little girl\\n\\nAll I ever wanted\\nAll I ever needed\\nIs here in my arms\\nWords are very unnecessary\\nThey can only do harm\\n\\nVows are spoken\\nTo be broken\\nFeelings are intense\\nWords are trivial\\nPleasures remain\\nSo does the pain\\nWords are meaningless\\nAnd forgettable\\n\\nAll I ever wanted\\nAll I ever needed\\nIs here in my arms\\nWords are very unnecessary\\nThey can only do harm\\n\\nAll I ever wanted\\nAll I ever needed\\nIs here in my arms\\nWords are very unnecessary\\nThey can only do harm\\n\\nAll I ever wanted\\nAll I ever needed\\nIs here in my arms\\nWords are very unnecessary\\nThey can only do harm\\n\\nEnjoy the silence...\""
      ]
     },
     "execution_count": 49,
     "metadata": {},
     "output_type": "execute_result"
    }
   ],
   "source": [
    "selected_lyrics = selected.find('{http://api.chartlyrics.com/}Lyric').text\n",
    "selected_lyrics"
   ]
  },
  {
   "cell_type": "code",
   "execution_count": null,
   "metadata": {},
   "outputs": [],
   "source": []
  }
 ],
 "metadata": {
  "kernelspec": {
   "display_name": "Python 3",
   "language": "python",
   "name": "python3"
  },
  "language_info": {
   "codemirror_mode": {
    "name": "ipython",
    "version": 3
   },
   "file_extension": ".py",
   "mimetype": "text/x-python",
   "name": "python",
   "nbconvert_exporter": "python",
   "pygments_lexer": "ipython3",
   "version": "3.7.3"
  }
 },
 "nbformat": 4,
 "nbformat_minor": 4
}
